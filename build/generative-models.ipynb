{
  "nbformat": 4,
  "nbformat_minor": 0,
  "metadata": {
    "colab": {
      "name": "Ergo Prediction Template",
      "provenance": [],
      "collapsed_sections": [],
      "authorship_tag": "ABX9TyPgKrh8bZ47rkoZKUfKuv2A",
      "include_colab_link": true
    },
    "kernelspec": {
      "name": "python3",
      "display_name": "Python 3"
    }
  },
  "cells": [
    {
      "cell_type": "markdown",
      "metadata": {
        "id": "view-in-github",
        "colab_type": "text"
      },
      "source": [
        "<a href=\"https://colab.research.google.com/github/oughtinc/ergo/blob/master/notebooks/basic.ipynb\" target=\"_parent\"><img src=\"https://colab.research.google.com/assets/colab-badge.svg\" alt=\"Open In Colab\"/></a>"
      ]
    },
    {
      "cell_type": "markdown",
      "metadata": {
        "id": "Sa4Txdm9Ym0I",
        "colab_type": "text"
      },
      "source": [
        "# Setup"
      ]
    },
    {
      "cell_type": "code",
      "metadata": {
        "id": "ZAskliLXYeaI",
        "colab_type": "code",
        "outputId": "779a4cc7-7976-4aff-c3d9-f7648501b72b",
        "colab": {
          "base_uri": "https://localhost:8080/",
          "height": 340
        }
      },
      "source": [
        "!pip install --quiet poetry  # Fixes https://github.com/python-poetry/poetry/issues/532\n",
        "!pip install --quiet git+https://github.com/oughtinc/ergo.git"
      ],
      "execution_count": 0,
      "outputs": [
        {
          "output_type": "stream",
          "text": [
            "\u001b[K     |████████████████████████████████| 225kB 1.4MB/s \n",
            "\u001b[K     |████████████████████████████████| 112kB 46.2MB/s \n",
            "\u001b[K     |████████████████████████████████| 92kB 8.3MB/s \n",
            "\u001b[K     |████████████████████████████████| 61kB 5.7MB/s \n",
            "\u001b[K     |████████████████████████████████| 61kB 5.6MB/s \n",
            "\u001b[K     |████████████████████████████████| 2.7MB 57.6MB/s \n",
            "\u001b[?25h  Building wheel for pyrsistent (setup.py) ... \u001b[?25l\u001b[?25hdone\n",
            "  Installing build dependencies ... \u001b[?25l\u001b[?25hdone\n",
            "  Getting requirements to build wheel ... \u001b[?25l\u001b[?25hdone\n",
            "    Preparing wheel metadata ... \u001b[?25l\u001b[?25hdone\n",
            "\u001b[K     |████████████████████████████████| 153kB 1.4MB/s \n",
            "\u001b[K     |████████████████████████████████| 501kB 37.3MB/s \n",
            "\u001b[K     |████████████████████████████████| 61kB 833kB/s \n",
            "\u001b[K     |████████████████████████████████| 29.3MB 1.3MB/s \n",
            "\u001b[K     |████████████████████████████████| 51kB 6.7MB/s \n",
            "\u001b[K     |████████████████████████████████| 491kB 58.9MB/s \n",
            "\u001b[?25h  Building wheel for ergo (PEP 517) ... \u001b[?25l\u001b[?25hdone\n",
            "  Building wheel for country-converter (setup.py) ... \u001b[?25l\u001b[?25hdone\n",
            "\u001b[31mERROR: chainer 6.5.0 has requirement typing-extensions<=3.6.6, but you'll have typing-extensions 3.7.4.2 which is incompatible.\u001b[0m\n"
          ],
          "name": "stdout"
        }
      ]
    },
    {
      "cell_type": "code",
      "metadata": {
        "id": "KfIENVozY0J3",
        "colab_type": "code",
        "colab": {}
      },
      "source": [
        "%load_ext google.colab.data_table"
      ],
      "execution_count": 0,
      "outputs": []
    },
    {
      "cell_type": "code",
      "metadata": {
        "id": "ZEKUvn7EY3Z5",
        "colab_type": "code",
        "outputId": "7e520dfd-8769-4773-f6d5-418c1b8fadde",
        "colab": {
          "base_uri": "https://localhost:8080/",
          "height": 71
        }
      },
      "source": [
        "import ergo"
      ],
      "execution_count": 0,
      "outputs": [
        {
          "output_type": "stream",
          "text": [
            "/usr/local/lib/python3.6/dist-packages/statsmodels/tools/_testing.py:19: FutureWarning: pandas.util.testing is deprecated. Use the functions in the public API at pandas.testing instead.\n",
            "  import pandas.util.testing as tm\n"
          ],
          "name": "stderr"
        }
      ]
    },
    {
      "cell_type": "markdown",
      "metadata": {
        "id": "WsC09uwoY5y6",
        "colab_type": "text"
      },
      "source": [
        "# Model"
      ]
    },
    {
      "cell_type": "code",
      "metadata": {
        "id": "2NJX5auNY6pn",
        "colab_type": "code",
        "outputId": "958c300b-5b17-496f-dee1-c29f3d2b6b57",
        "colab": {
          "base_uri": "https://localhost:8080/",
          "height": 34
        }
      },
      "source": [
        "def model():\n",
        "  x = ergo.lognormal_from_interval(1, 10, name=\"x\")\n",
        "  y = ergo.beta_from_hits(2, 10, name=\"y\")\n",
        "  z = x * y  \n",
        "  ergo.tag(z, \"z\")\n",
        "\n",
        "samples = ergo.run(model, num_samples=10000)"
      ],
      "execution_count": 0,
      "outputs": [
        {
          "output_type": "stream",
          "text": [
            "100%|██████████| 10000/10000 [00:04<00:00, 2001.05it/s]\n"
          ],
          "name": "stderr"
        }
      ]
    },
    {
      "cell_type": "markdown",
      "metadata": {
        "id": "zQYFcRd6ZCui",
        "colab_type": "text"
      },
      "source": [
        "# Analysis"
      ]
    },
    {
      "cell_type": "markdown",
      "metadata": {
        "id": "UfGruRDTOgYC",
        "colab_type": "text"
      },
      "source": [
        "Histogram:"
      ]
    },
    {
      "cell_type": "code",
      "metadata": {
        "id": "FQf1IjKYOiqh",
        "colab_type": "code",
        "outputId": "b964c140-672d-4b7e-be01-74f9872d2740",
        "colab": {
          "base_uri": "https://localhost:8080/",
          "height": 282
        }
      },
      "source": [
        "samples[\"x\"].hist()"
      ],
      "execution_count": 0,
      "outputs": [
        {
          "output_type": "execute_result",
          "data": {
            "text/plain": [
              "<matplotlib.axes._subplots.AxesSubplot at 0x7f7bcb463438>"
            ]
          },
          "metadata": {
            "tags": []
          },
          "execution_count": 5
        },
        {
          "output_type": "display_data",
          "data": {
            "image/png": "[encoded data removed]",
            "text/plain": [
              "<Figure size 432x288 with 1 Axes>"
            ]
          },
          "metadata": {
            "tags": []
          }
        }
      ]
    },
    {
      "cell_type": "code",
      "metadata": {
        "id": "t8FRJtMoaxvi",
        "colab_type": "code",
        "outputId": "e110eeb2-9584-42f8-c59b-8c2d54c65563",
        "colab": {
          "base_uri": "https://localhost:8080/",
          "height": 282
        }
      },
      "source": [
        "samples[\"z\"].hist()"
      ],
      "execution_count": 0,
      "outputs": [
        {
          "output_type": "execute_result",
          "data": {
            "text/plain": [
              "<matplotlib.axes._subplots.AxesSubplot at 0x7f7bcb47e828>"
            ]
          },
          "metadata": {
            "tags": []
          },
          "execution_count": 6
        },
        {
          "output_type": "display_data",
          "data": {
            "image/png": "[encoded data removed]",
            "text/plain": [
              "<Figure size 432x288 with 1 Axes>"
            ]
          },
          "metadata": {
            "tags": []
          }
        }
      ]
    },
    {
      "cell_type": "markdown",
      "metadata": {
        "id": "D9x4kW64OEMN",
        "colab_type": "text"
      },
      "source": [
        "Summary stats:"
      ]
    },
    {
      "cell_type": "code",
      "metadata": {
        "id": "YI7IsER5yXrM",
        "colab_type": "code",
        "outputId": "3b2a039e-29ce-487d-fce3-c3374328618f",
        "colab": {
          "base_uri": "https://localhost:8080/",
          "height": 256
        }
      },
      "source": [
        "samples.describe()"
      ],
      "execution_count": 0,
      "outputs": [
        {
          "output_type": "execute_result",
          "data": {
            "application/vnd.google.colaboratory.module+javascript": "\n      import \"https://ssl.gstatic.com/colaboratory/data_table/84ef27dae82052e3/data_table.js\";\n\n      window.createDataTable({\n        data: [[\"count\",\n{\n            'v': 10000.0,\n            'f': \"10000.0\",\n        },\n{\n            'v': 10000.0,\n            'f': \"10000.0\",\n        },\n{\n            'v': 10000.0,\n            'f': \"10000.0\",\n        }],\n [\"mean\",\n{\n            'v': 4.011840905483067,\n            'f': \"4.011840905483067\",\n        },\n{\n            'v': 0.20068966439822689,\n            'f': \"0.20068966439822689\",\n        },\n{\n            'v': 0.8039572589599294,\n            'f': \"0.8039572589599294\",\n        }],\n [\"std\",\n{\n            'v': 3.096828423525373,\n            'f': \"3.096828423525373\",\n        },\n{\n            'v': 0.12005890537984203,\n            'f': \"0.12005890537984203\",\n        },\n{\n            'v': 0.8720270815498106,\n            'f': \"0.8720270815498106\",\n        }],\n [\"min\",\n{\n            'v': 0.20079593360424042,\n            'f': \"0.20079593360424042\",\n        },\n{\n            'v': 0.0013835970312356949,\n            'f': \"0.0013835970312356949\",\n        },\n{\n            'v': 0.003446863731369376,\n            'f': \"0.003446863731369376\",\n        }],\n [\"25%\",\n{\n            'v': 1.9578408300876617,\n            'f': \"1.9578408300876617\",\n        },\n{\n            'v': 0.10883753560483456,\n            'f': \"0.10883753560483456\",\n        },\n{\n            'v': 0.2712158188223839,\n            'f': \"0.2712158188223839\",\n        }],\n [\"50%\",\n{\n            'v': 3.1589934825897217,\n            'f': \"3.1589934825897217\",\n        },\n{\n            'v': 0.18134549260139465,\n            'f': \"0.18134549260139465\",\n        },\n{\n            'v': 0.5434738993644714,\n            'f': \"0.5434738993644714\",\n        }],\n [\"75%\",\n{\n            'v': 5.091128587722778,\n            'f': \"5.091128587722778\",\n        },\n{\n            'v': 0.27246106415987015,\n            'f': \"0.27246106415987015\",\n        },\n{\n            'v': 1.0222870707511902,\n            'f': \"1.0222870707511902\",\n        }],\n [\"max\",\n{\n            'v': 36.911163330078125,\n            'f': \"36.911163330078125\",\n        },\n{\n            'v': 0.772177517414093,\n            'f': \"0.772177517414093\",\n        },\n{\n            'v': 14.026191711425781,\n            'f': \"14.026191711425781\",\n        }]],\n        columns: [[\"string\", \"index\"], [\"number\", \"x\"], [\"number\", \"y\"], [\"number\", \"z\"]],\n        columnOptions: [{\"width\": \"1px\", \"className\": \"index_column\"}],\n        rowsPerPage: 25,\n        helpUrl: \"https://colab.research.google.com/notebooks/data_table.ipynb\",\n        suppressOutputScrolling: true,\n      });\n    ",
            "text/html": [
              "<div>\n",
              "<style scoped>\n",
              "    .dataframe tbody tr th:only-of-type {\n",
              "        vertical-align: middle;\n",
              "    }\n",
              "\n",
              "    .dataframe tbody tr th {\n",
              "        vertical-align: top;\n",
              "    }\n",
              "\n",
              "    .dataframe thead th {\n",
              "        text-align: right;\n",
              "    }\n",
              "</style>\n",
              "<table border=\"1\" class=\"dataframe\">\n",
              "  <thead>\n",
              "    <tr style=\"text-align: right;\">\n",
              "      <th></th>\n",
              "      <th>x</th>\n",
              "      <th>y</th>\n",
              "      <th>z</th>\n",
              "    </tr>\n",
              "  </thead>\n",
              "  <tbody>\n",
              "    <tr>\n",
              "      <th>count</th>\n",
              "      <td>10000.000000</td>\n",
              "      <td>10000.000000</td>\n",
              "      <td>10000.000000</td>\n",
              "    </tr>\n",
              "    <tr>\n",
              "      <th>mean</th>\n",
              "      <td>4.011841</td>\n",
              "      <td>0.200690</td>\n",
              "      <td>0.803957</td>\n",
              "    </tr>\n",
              "    <tr>\n",
              "      <th>std</th>\n",
              "      <td>3.096828</td>\n",
              "      <td>0.120059</td>\n",
              "      <td>0.872027</td>\n",
              "    </tr>\n",
              "    <tr>\n",
              "      <th>min</th>\n",
              "      <td>0.200796</td>\n",
              "      <td>0.001384</td>\n",
              "      <td>0.003447</td>\n",
              "    </tr>\n",
              "    <tr>\n",
              "      <th>25%</th>\n",
              "      <td>1.957841</td>\n",
              "      <td>0.108838</td>\n",
              "      <td>0.271216</td>\n",
              "    </tr>\n",
              "    <tr>\n",
              "      <th>50%</th>\n",
              "      <td>3.158993</td>\n",
              "      <td>0.181345</td>\n",
              "      <td>0.543474</td>\n",
              "    </tr>\n",
              "    <tr>\n",
              "      <th>75%</th>\n",
              "      <td>5.091129</td>\n",
              "      <td>0.272461</td>\n",
              "      <td>1.022287</td>\n",
              "    </tr>\n",
              "    <tr>\n",
              "      <th>max</th>\n",
              "      <td>36.911163</td>\n",
              "      <td>0.772178</td>\n",
              "      <td>14.026192</td>\n",
              "    </tr>\n",
              "  </tbody>\n",
              "</table>\n",
              "</div>"
            ],
            "text/plain": [
              "                  x             y             z\n",
              "count  10000.000000  10000.000000  10000.000000\n",
              "mean       4.011841      0.200690      0.803957\n",
              "std        3.096828      0.120059      0.872027\n",
              "min        0.200796      0.001384      0.003447\n",
              "25%        1.957841      0.108838      0.271216\n",
              "50%        3.158993      0.181345      0.543474\n",
              "75%        5.091129      0.272461      1.022287\n",
              "max       36.911163      0.772178     14.026192"
            ]
          },
          "metadata": {
            "tags": []
          },
          "execution_count": 7
        }
      ]
    }
  ]
}