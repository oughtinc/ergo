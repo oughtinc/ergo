{
  "nbformat": 4,
  "nbformat_minor": 0,
  "metadata": {
    "colab": {
      "name": "Prediction Dashboard",
      "provenance": [],
      "collapsed_sections": []
    },
    "kernelspec": {
      "name": "python3",
      "display_name": "Python 3"
    }
  },
  "cells": [
    {
      "cell_type": "markdown",
      "metadata": {
        "id": "rDEO4es_iFKZ",
        "colab_type": "text"
      },
      "source": [
        "# Setup"
      ]
    },
    {
      "cell_type": "code",
      "metadata": {
        "id": "cB14hIdmlhm8",
        "colab_type": "code",
        "colab": {}
      },
      "source": [
        "%%capture\n",
        "%pip install --quiet poetry  # Fixes https://github.com/python-poetry/poetry/issues/532\n",
        "%pip install --quiet git+https://github.com/oughtinc/ergo.git"
      ],
      "execution_count": 0,
      "outputs": []
    },
    {
      "cell_type": "code",
      "metadata": {
        "id": "ByItyTjYteQs",
        "colab_type": "code",
        "colab": {}
      },
      "source": [
        "import ergo\n",
        "import pendulum\n",
        "import pandas as pd;"
      ],
      "execution_count": 0,
      "outputs": []
    },
    {
      "cell_type": "code",
      "metadata": {
        "id": "FOxYRu-_teev",
        "colab_type": "code",
        "colab": {}
      },
      "source": [
        "%load_ext google.colab.data_table"
      ],
      "execution_count": 0,
      "outputs": []
    },
    {
      "cell_type": "code",
      "metadata": {
        "id": "KBopEv3DnbVK",
        "colab_type": "code",
        "colab": {}
      },
      "source": [
        "metaculus = ergo.Metaculus(username=\"oughtpublic\", password=\"123456\", api_domain=\"pandemic\")"
      ],
      "execution_count": 0,
      "outputs": []
    },
    {
      "cell_type": "markdown",
      "metadata": {
        "id": "q_ZEfG6rN8bZ",
        "colab_type": "text"
      },
      "source": [
        "# Dashboard"
      ]
    },
    {
      "cell_type": "markdown",
      "metadata": {
        "id": "V7RFQ-z1370Z",
        "colab_type": "text"
      },
      "source": [
        "## Resolved questions"
      ]
    },
    {
      "cell_type": "code",
      "metadata": {
        "id": "fEwT9cMgAH6c",
        "colab_type": "code",
        "colab": {}
      },
      "source": [
        "resolved_predictions = metaculus.make_questions_df(metaculus.get_questions_json(question_status=\"resolved\", player_status=\"predicted\", pages=9999))"
      ],
      "execution_count": 0,
      "outputs": []
    },
    {
      "cell_type": "code",
      "metadata": {
        "id": "IqtjAdsXBX-o",
        "colab_type": "code",
        "outputId": "561fd9ff-a38d-4a8b-c14a-d8d6dbe0ce86",
        "colab": {
          "base_uri": "https://localhost:8080/",
          "height": 606
        }
      },
      "source": [
        "resolved_predictions[[\"title\", \"resolve_time\", \"i_created\", \"url\", \"id\"]]"
      ],
      "execution_count": 0,
      "outputs": [
        {
          "output_type": "execute_result",
          "data": {
            "application/vnd.google.colaboratory.module+javascript": "\n      import \"https://ssl.gstatic.com/colaboratory/data_table/a6224c040fa35dcf/data_table.js\";\n\n      window.createDataTable({\n        data: [[{\n            'v': 0,\n            'f': \"0\",\n        },\n\"What will the Seattle Police Department report as the total number of criminal offenses in March 2020?\",\n\"2020-04-06 06:01:00+00:00\",\ntrue,\n\"https://pandemic.metaculus.com/api2/questions/3924/\",\n{\n            'v': 3924,\n            'f': \"3924\",\n        }],\n [{\n            'v': 1,\n            'f': \"1\",\n        },\n\"[short fuse] How many total confirmed deaths of novel coronavirus will be reported in the state of New York by April 2nd?\",\n\"2020-04-02 04:00:00+00:00\",\nfalse,\n\"https://pandemic.metaculus.com/api2/questions/3934/\",\n{\n            'v': 3934,\n            'f': \"3934\",\n        }],\n [{\n            'v': 2,\n            'f': \"2\",\n        },\n\"What will be the US unemployment rate for March 2020?\",\n\"2020-04-03 07:17:00+00:00\",\ntrue,\n\"https://pandemic.metaculus.com/api2/questions/3922/\",\n{\n            'v': 3922,\n            'f': \"3922\",\n        }],\n [{\n            'v': 3,\n            'f': \"3\",\n        },\n\"Will Florida go under lockdown between 2020-03-25 and 2020-04-25?\",\n\"2020-04-01 17:38:00+00:00\",\ntrue,\n\"https://pandemic.metaculus.com/api2/questions/3926/\",\n{\n            'v': 3926,\n            'f': \"3926\",\n        }],\n [{\n            'v': 4,\n            'f': \"4\",\n        },\n\"How many total confirmed cases of novel coronavirus will be reported in the WHO African region by March 27?\",\n\"2020-03-27 09:00:00+00:00\",\nfalse,\n\"https://pandemic.metaculus.com/api2/questions/3705/\",\n{\n            'v': 3705,\n            'f': \"3705\",\n        }],\n [{\n            'v': 5,\n            'f': \"5\",\n        },\n\"How many total confirmed cases of novel coronavirus will be reported in the WHO European region by March 27?\",\n\"2020-03-27 09:00:00+00:00\",\nfalse,\n\"https://pandemic.metaculus.com/api2/questions/3706/\",\n{\n            'v': 3706,\n            'f': \"3706\",\n        }],\n [{\n            'v': 6,\n            'f': \"6\",\n        },\n\"How many total confirmed cases of novel coronavirus will be reported in the WHO Region of the Americas by March 27?\",\n\"2020-03-27 21:37:00+00:00\",\nfalse,\n\"https://pandemic.metaculus.com/api2/questions/3712/\",\n{\n            'v': 3712,\n            'f': \"3712\",\n        }],\n [{\n            'v': 7,\n            'f': \"7\",\n        },\n\"How many total confirmed cases of novel coronavirus will be reported in the WHO Western Pacific Region, outside of China and Taiwan, by March 27?\",\n\"2020-03-27 09:00:00+00:00\",\nfalse,\n\"https://pandemic.metaculus.com/api2/questions/3713/\",\n{\n            'v': 3713,\n            'f': \"3713\",\n        }],\n [{\n            'v': 8,\n            'f': \"8\",\n        },\n\"How many total confirmed cases of novel coronavirus will be reported in the WHO South-East Asia Region by March 27?\",\n\"2020-03-27 21:43:00+00:00\",\nfalse,\n\"https://pandemic.metaculus.com/api2/questions/3711/\",\n{\n            'v': 3711,\n            'f': \"3711\",\n        }],\n [{\n            'v': 9,\n            'f': \"9\",\n        },\n\"How many COVID-2019 cases in the United Kingdom will be confirmed on March the 27th?\",\n\"2020-03-27 09:00:00+00:00\",\nfalse,\n\"https://pandemic.metaculus.com/api2/questions/3761/\",\n{\n            'v': 3761,\n            'f': \"3761\",\n        }],\n [{\n            'v': 10,\n            'f': \"10\",\n        },\n\"How many cumulative confirmed cases of coronavirus in the entire Bay Area will be reported by Johns Hopkins CSSE on April 1st, 2020?\",\n\"2020-04-01 19:00:00+00:00\",\nfalse,\n\"https://pandemic.metaculus.com/api2/questions/3740/\",\n{\n            'v': 3740,\n            'f': \"3740\",\n        }],\n [{\n            'v': 11,\n            'f': \"11\",\n        },\n\"How many total confirmed cases of novel coronavirus will be reported in the WHO East Mediterranean region by March 27?\",\n\"2020-03-27 09:00:00+00:00\",\nfalse,\n\"https://pandemic.metaculus.com/api2/questions/3704/\",\n{\n            'v': 3704,\n            'f': \"3704\",\n        }],\n [{\n            'v': 12,\n            'f': \"12\",\n        },\n\"How many cumulative confirmed cases of coronavirus in San Francisco will be reported by Johns Hopkins CSSE on April 1st, 2020?\",\n\"2020-04-01 10:00:00+00:00\",\nfalse,\n\"https://pandemic.metaculus.com/api2/questions/3736/\",\n{\n            'v': 3736,\n            'f': \"3736\",\n        }],\n [{\n            'v': 13,\n            'f': \"13\",\n        },\n\"How many COVID-2019 cases in South Korea will be confirmed on March the 27th?\",\n\"2020-03-27 21:41:00+00:00\",\nfalse,\n\"https://pandemic.metaculus.com/api2/questions/3722/\",\n{\n            'v': 3722,\n            'f': \"3722\",\n        }]],\n        columns: [[\"number\", \"index\"], [\"string\", \"title\"], [\"string\", \"resolve_time\"], [\"string\", \"i_created\"], [\"string\", \"url\"], [\"number\", \"id\"]],\n        columnOptions: [{\"width\": \"1px\", \"className\": \"index_column\"}],\n        rowsPerPage: 25,\n        helpUrl: \"https://colab.research.google.com/notebooks/data_table.ipynb\",\n        suppressOutputScrolling: true,\n        minimumWidth: undefined,\n      });\n    ",
            "text/html": [
              "<div>\n",
              "<style scoped>\n",
              "    .dataframe tbody tr th:only-of-type {\n",
              "        vertical-align: middle;\n",
              "    }\n",
              "\n",
              "    .dataframe tbody tr th {\n",
              "        vertical-align: top;\n",
              "    }\n",
              "\n",
              "    .dataframe thead th {\n",
              "        text-align: right;\n",
              "    }\n",
              "</style>\n",
              "<table border=\"1\" class=\"dataframe\">\n",
              "  <thead>\n",
              "    <tr style=\"text-align: right;\">\n",
              "      <th></th>\n",
              "      <th>title</th>\n",
              "      <th>resolve_time</th>\n",
              "      <th>i_created</th>\n",
              "      <th>url</th>\n",
              "      <th>id</th>\n",
              "    </tr>\n",
              "  </thead>\n",
              "  <tbody>\n",
              "    <tr>\n",
              "      <th>0</th>\n",
              "      <td>What will the Seattle Police Department report...</td>\n",
              "      <td>2020-04-06 06:01:00+00:00</td>\n",
              "      <td>True</td>\n",
              "      <td>https://pandemic.metaculus.com/api2/questions/...</td>\n",
              "      <td>3924</td>\n",
              "    </tr>\n",
              "    <tr>\n",
              "      <th>1</th>\n",
              "      <td>[short fuse] How many total confirmed deaths o...</td>\n",
              "      <td>2020-04-02 04:00:00+00:00</td>\n",
              "      <td>False</td>\n",
              "      <td>https://pandemic.metaculus.com/api2/questions/...</td>\n",
              "      <td>3934</td>\n",
              "    </tr>\n",
              "    <tr>\n",
              "      <th>2</th>\n",
              "      <td>What will be the US unemployment rate for Marc...</td>\n",
              "      <td>2020-04-03 07:17:00+00:00</td>\n",
              "      <td>True</td>\n",
              "      <td>https://pandemic.metaculus.com/api2/questions/...</td>\n",
              "      <td>3922</td>\n",
              "    </tr>\n",
              "    <tr>\n",
              "      <th>3</th>\n",
              "      <td>Will Florida go under lockdown between 2020-03...</td>\n",
              "      <td>2020-04-01 17:38:00+00:00</td>\n",
              "      <td>True</td>\n",
              "      <td>https://pandemic.metaculus.com/api2/questions/...</td>\n",
              "      <td>3926</td>\n",
              "    </tr>\n",
              "    <tr>\n",
              "      <th>4</th>\n",
              "      <td>How many total confirmed cases of novel corona...</td>\n",
              "      <td>2020-03-27 09:00:00+00:00</td>\n",
              "      <td>False</td>\n",
              "      <td>https://pandemic.metaculus.com/api2/questions/...</td>\n",
              "      <td>3705</td>\n",
              "    </tr>\n",
              "    <tr>\n",
              "      <th>5</th>\n",
              "      <td>How many total confirmed cases of novel corona...</td>\n",
              "      <td>2020-03-27 09:00:00+00:00</td>\n",
              "      <td>False</td>\n",
              "      <td>https://pandemic.metaculus.com/api2/questions/...</td>\n",
              "      <td>3706</td>\n",
              "    </tr>\n",
              "    <tr>\n",
              "      <th>6</th>\n",
              "      <td>How many total confirmed cases of novel corona...</td>\n",
              "      <td>2020-03-27 21:37:00+00:00</td>\n",
              "      <td>False</td>\n",
              "      <td>https://pandemic.metaculus.com/api2/questions/...</td>\n",
              "      <td>3712</td>\n",
              "    </tr>\n",
              "    <tr>\n",
              "      <th>7</th>\n",
              "      <td>How many total confirmed cases of novel corona...</td>\n",
              "      <td>2020-03-27 09:00:00+00:00</td>\n",
              "      <td>False</td>\n",
              "      <td>https://pandemic.metaculus.com/api2/questions/...</td>\n",
              "      <td>3713</td>\n",
              "    </tr>\n",
              "    <tr>\n",
              "      <th>8</th>\n",
              "      <td>How many total confirmed cases of novel corona...</td>\n",
              "      <td>2020-03-27 21:43:00+00:00</td>\n",
              "      <td>False</td>\n",
              "      <td>https://pandemic.metaculus.com/api2/questions/...</td>\n",
              "      <td>3711</td>\n",
              "    </tr>\n",
              "    <tr>\n",
              "      <th>9</th>\n",
              "      <td>How many COVID-2019 cases in the United Kingdo...</td>\n",
              "      <td>2020-03-27 09:00:00+00:00</td>\n",
              "      <td>False</td>\n",
              "      <td>https://pandemic.metaculus.com/api2/questions/...</td>\n",
              "      <td>3761</td>\n",
              "    </tr>\n",
              "    <tr>\n",
              "      <th>10</th>\n",
              "      <td>How many cumulative confirmed cases of coronav...</td>\n",
              "      <td>2020-04-01 19:00:00+00:00</td>\n",
              "      <td>False</td>\n",
              "      <td>https://pandemic.metaculus.com/api2/questions/...</td>\n",
              "      <td>3740</td>\n",
              "    </tr>\n",
              "    <tr>\n",
              "      <th>11</th>\n",
              "      <td>How many total confirmed cases of novel corona...</td>\n",
              "      <td>2020-03-27 09:00:00+00:00</td>\n",
              "      <td>False</td>\n",
              "      <td>https://pandemic.metaculus.com/api2/questions/...</td>\n",
              "      <td>3704</td>\n",
              "    </tr>\n",
              "    <tr>\n",
              "      <th>12</th>\n",
              "      <td>How many cumulative confirmed cases of coronav...</td>\n",
              "      <td>2020-04-01 10:00:00+00:00</td>\n",
              "      <td>False</td>\n",
              "      <td>https://pandemic.metaculus.com/api2/questions/...</td>\n",
              "      <td>3736</td>\n",
              "    </tr>\n",
              "    <tr>\n",
              "      <th>13</th>\n",
              "      <td>How many COVID-2019 cases in South Korea will ...</td>\n",
              "      <td>2020-03-27 21:41:00+00:00</td>\n",
              "      <td>False</td>\n",
              "      <td>https://pandemic.metaculus.com/api2/questions/...</td>\n",
              "      <td>3722</td>\n",
              "    </tr>\n",
              "  </tbody>\n",
              "</table>\n",
              "</div>"
            ],
            "text/plain": [
              "                                                title  ...    id\n",
              "0   What will the Seattle Police Department report...  ...  3924\n",
              "1   [short fuse] How many total confirmed deaths o...  ...  3934\n",
              "2   What will be the US unemployment rate for Marc...  ...  3922\n",
              "3   Will Florida go under lockdown between 2020-03...  ...  3926\n",
              "4   How many total confirmed cases of novel corona...  ...  3705\n",
              "5   How many total confirmed cases of novel corona...  ...  3706\n",
              "6   How many total confirmed cases of novel corona...  ...  3712\n",
              "7   How many total confirmed cases of novel corona...  ...  3713\n",
              "8   How many total confirmed cases of novel corona...  ...  3711\n",
              "9   How many COVID-2019 cases in the United Kingdo...  ...  3761\n",
              "10  How many cumulative confirmed cases of coronav...  ...  3740\n",
              "11  How many total confirmed cases of novel corona...  ...  3704\n",
              "12  How many cumulative confirmed cases of coronav...  ...  3736\n",
              "13  How many COVID-2019 cases in South Korea will ...  ...  3722\n",
              "\n",
              "[14 rows x 5 columns]"
            ]
          },
          "metadata": {
            "tags": []
          },
          "execution_count": 8
        }
      ]
    },
    {
      "cell_type": "markdown",
      "metadata": {
        "id": "umvzKDhfDRj6",
        "colab_type": "text"
      },
      "source": [
        "(Compare https://pandemic.metaculus.com/questions/?order_by=-resolve_time&status=resolved&guessed_by=1120040"
      ]
    },
    {
      "cell_type": "markdown",
      "metadata": {
        "id": "Ax4G-7s7mhKU",
        "colab_type": "text"
      },
      "source": [
        "## Open questions"
      ]
    },
    {
      "cell_type": "code",
      "metadata": {
        "id": "LIoW84j7gXib",
        "colab_type": "code",
        "colab": {}
      },
      "source": [
        "open = metaculus.make_questions_df(metaculus.get_questions_json(question_status=\"open\", player_status=\"any\", pages=9999))"
      ],
      "execution_count": 0,
      "outputs": []
    },
    {
      "cell_type": "markdown",
      "metadata": {
        "id": "TgEFZwIidrBp",
        "colab_type": "text"
      },
      "source": [
        "### Published on or after Mar 25, closing on or before Apr 25"
      ]
    },
    {
      "cell_type": "code",
      "metadata": {
        "id": "W8hUhi_edyRB",
        "colab_type": "code",
        "colab": {}
      },
      "source": [
        "after_mar_25 = open[open[\"publish_time\"] > pendulum.datetime(2020,3,24, tz=\"America/Los_Angeles\")]\n",
        "before_apr_25 = after_mar_25[after_mar_25[\"close_time\"] < pendulum.datetime(2020,4,26, tz=\"America/Los_Angeles\")]"
      ],
      "execution_count": 0,
      "outputs": []
    },
    {
      "cell_type": "code",
      "metadata": {
        "id": "JrOEMCFWl6DK",
        "colab_type": "code",
        "outputId": "5dd44bec-972a-4919-cc96-2f252c8e8014",
        "colab": {
          "base_uri": "https://localhost:8080/",
          "height": 714
        }
      },
      "source": [
        "before_apr_25[[\"title\", \"publish_time\", \"close_time\", \"i_predicted\", \"i_created\", \"page_url\", \"id\"]]"
      ],
      "execution_count": 0,
      "outputs": [
        {
          "output_type": "execute_result",
          "data": {
            "application/vnd.google.colaboratory.module+javascript": "\n      import \"https://ssl.gstatic.com/colaboratory/data_table/a6224c040fa35dcf/data_table.js\";\n\n      window.createDataTable({\n        data: [[{\n            'v': 46,\n            'f': \"46\",\n        },\n\"Will the US Strategic National Stockpile supply of ventilators be depleted before 2020-05-01?\",\n\"2020-04-07 06:00:00+00:00\",\n\"2020-04-25 18:59:00+00:00\",\nfalse,\nfalse,\n\"/questions/4020/will-the-us-strategic-national-stockpile-supply-of-ventilators-be-depleted-before-2020-05-01/\",\n{\n            'v': 4020,\n            'f': \"4020\",\n        }],\n [{\n            'v': 60,\n            'f': \"60\",\n        },\n\"What will the CBO estimate to be the cost of the Emergency Telework Act (S.3561)?\",\n\"2020-04-01 22:00:00+00:00\",\n\"2020-04-26 06:59:00+00:00\",\ntrue,\ntrue,\n\"/questions/3920/what-will-the-cbo-estimate-to-be-the-cost-of-the-emergency-telework-act-s3561/\",\n{\n            'v': 3920,\n            'f': \"3920\",\n        }],\n [{\n            'v': 64,\n            'f': \"64\",\n        },\n\"How many days will the average American spend under lockdown between 2020-03-25 and 2020-04-24 (inclusive)\",\n\"2020-03-31 22:00:00+00:00\",\n\"2020-04-21 06:59:00+00:00\",\ntrue,\ntrue,\n\"/questions/3925/how-many-days-will-the-average-american-spend-under-lockdown-between-2020-03-25-and-2020-04-24-inclusive/\",\n{\n            'v': 3925,\n            'f': \"3925\",\n        }],\n [{\n            'v': 68,\n            'f': \"68\",\n        },\n\"What will Washington state\\u2019s Department of Revenue report as the 2020 Q1 gross business income?\",\n\"2020-03-28 23:00:00+00:00\",\n\"2020-04-26 06:59:00+00:00\",\ntrue,\ntrue,\n\"/questions/3923/what-will-washington-states-department-of-revenue-report-as-the-2020-q1-gross-business-income/\",\n{\n            'v': 3923,\n            'f': \"3923\",\n        }],\n [{\n            'v': 69,\n            'f': \"69\",\n        },\n\"Will the Emergency Telework Act (S.3561) become law by 4/25/20?\",\n\"2020-03-28 23:00:00+00:00\",\n\"2020-04-20 06:59:00+00:00\",\ntrue,\ntrue,\n\"/questions/3918/will-the-emergency-telework-act-s3561-become-law-by-42520/\",\n{\n            'v': 3918,\n            'f': \"3918\",\n        }],\n [{\n            'v': 70,\n            'f': \"70\",\n        },\n\"By May 1 will there be an iOS or Android app that shares an individual's COVID-19 infection status with more than 1M other users?\",\n\"2020-03-28 13:28:37.595000+00:00\",\n\"2020-04-21 07:00:00+00:00\",\ntrue,\nfalse,\n\"/questions/3915/by-may-1-will-there-be-an-ios-or-android-app-that-shares-an-individuals-covid-19-infection-status-with-more-than-1m-other-users/\",\n{\n            'v': 3915,\n            'f': \"3915\",\n        }],\n [{\n            'v': 71,\n            'f': \"71\",\n        },\n\"By June 1, how many tests for COVID-19 will have been administered in the US?\",\n\"2020-03-28 07:00:00+00:00\",\n\"2020-04-21 07:00:00+00:00\",\ntrue,\nfalse,\n\"/questions/3916/by-june-1-how-many-tests-for-covid-19-will-have-been-administered-in-the-us/\",\n{\n            'v': 3916,\n            'f': \"3916\",\n        }],\n [{\n            'v': 82,\n            'f': \"82\",\n        },\n\"How many days will the city of Seattle spend under lockdown between 2020-03-25 and 2020-04-24 (inclusive)?\",\n\"2020-03-25 21:21:09+00:00\",\n\"2020-04-21 06:59:00+00:00\",\ntrue,\ntrue,\n\"/questions/3929/how-many-days-will-the-city-of-seattle-spend-under-lockdown-between-2020-03-25-and-2020-04-24-inclusive/\",\n{\n            'v': 3929,\n            'f': \"3929\",\n        }],\n [{\n            'v': 83,\n            'f': \"83\",\n        },\n\"How many days will Washington state spend under lockdown between 2020-03-25 and 2020-04-24 (inclusive)?\",\n\"2020-03-25 21:19:47+00:00\",\n\"2020-04-21 06:59:00+00:00\",\ntrue,\ntrue,\n\"/questions/3928/how-many-days-will-washington-state-spend-under-lockdown-between-2020-03-25-and-2020-04-24-inclusive/\",\n{\n            'v': 3928,\n            'f': \"3928\",\n        }],\n [{\n            'v': 84,\n            'f': \"84\",\n        },\n\"How many days will New York City spend under lockdown between 2020-03-25 and 2020-04-24 (inclusive)?\",\n\"2020-03-25 21:18:03+00:00\",\n\"2020-04-21 06:59:00+00:00\",\ntrue,\ntrue,\n\"/questions/3927/how-many-days-will-new-york-city-spend-under-lockdown-between-2020-03-25-and-2020-04-24-inclusive/\",\n{\n            'v': 3927,\n            'f': \"3927\",\n        }]],\n        columns: [[\"number\", \"index\"], [\"string\", \"title\"], [\"string\", \"publish_time\"], [\"string\", \"close_time\"], [\"string\", \"i_predicted\"], [\"string\", \"i_created\"], [\"string\", \"page_url\"], [\"number\", \"id\"]],\n        columnOptions: [{\"width\": \"1px\", \"className\": \"index_column\"}],\n        rowsPerPage: 25,\n        helpUrl: \"https://colab.research.google.com/notebooks/data_table.ipynb\",\n        suppressOutputScrolling: true,\n        minimumWidth: undefined,\n      });\n    ",
            "text/html": [
              "<div>\n",
              "<style scoped>\n",
              "    .dataframe tbody tr th:only-of-type {\n",
              "        vertical-align: middle;\n",
              "    }\n",
              "\n",
              "    .dataframe tbody tr th {\n",
              "        vertical-align: top;\n",
              "    }\n",
              "\n",
              "    .dataframe thead th {\n",
              "        text-align: right;\n",
              "    }\n",
              "</style>\n",
              "<table border=\"1\" class=\"dataframe\">\n",
              "  <thead>\n",
              "    <tr style=\"text-align: right;\">\n",
              "      <th></th>\n",
              "      <th>title</th>\n",
              "      <th>publish_time</th>\n",
              "      <th>close_time</th>\n",
              "      <th>i_predicted</th>\n",
              "      <th>i_created</th>\n",
              "      <th>page_url</th>\n",
              "      <th>id</th>\n",
              "    </tr>\n",
              "  </thead>\n",
              "  <tbody>\n",
              "    <tr>\n",
              "      <th>46</th>\n",
              "      <td>Will the US Strategic National Stockpile suppl...</td>\n",
              "      <td>2020-04-07 06:00:00+00:00</td>\n",
              "      <td>2020-04-25 18:59:00+00:00</td>\n",
              "      <td>False</td>\n",
              "      <td>False</td>\n",
              "      <td>/questions/4020/will-the-us-strategic-national...</td>\n",
              "      <td>4020</td>\n",
              "    </tr>\n",
              "    <tr>\n",
              "      <th>60</th>\n",
              "      <td>What will the CBO estimate to be the cost of t...</td>\n",
              "      <td>2020-04-01 22:00:00+00:00</td>\n",
              "      <td>2020-04-26 06:59:00+00:00</td>\n",
              "      <td>True</td>\n",
              "      <td>True</td>\n",
              "      <td>/questions/3920/what-will-the-cbo-estimate-to-...</td>\n",
              "      <td>3920</td>\n",
              "    </tr>\n",
              "    <tr>\n",
              "      <th>64</th>\n",
              "      <td>How many days will the average American spend ...</td>\n",
              "      <td>2020-03-31 22:00:00+00:00</td>\n",
              "      <td>2020-04-21 06:59:00+00:00</td>\n",
              "      <td>True</td>\n",
              "      <td>True</td>\n",
              "      <td>/questions/3925/how-many-days-will-the-average...</td>\n",
              "      <td>3925</td>\n",
              "    </tr>\n",
              "    <tr>\n",
              "      <th>68</th>\n",
              "      <td>What will Washington state’s Department of Rev...</td>\n",
              "      <td>2020-03-28 23:00:00+00:00</td>\n",
              "      <td>2020-04-26 06:59:00+00:00</td>\n",
              "      <td>True</td>\n",
              "      <td>True</td>\n",
              "      <td>/questions/3923/what-will-washington-states-de...</td>\n",
              "      <td>3923</td>\n",
              "    </tr>\n",
              "    <tr>\n",
              "      <th>69</th>\n",
              "      <td>Will the Emergency Telework Act (S.3561) becom...</td>\n",
              "      <td>2020-03-28 23:00:00+00:00</td>\n",
              "      <td>2020-04-20 06:59:00+00:00</td>\n",
              "      <td>True</td>\n",
              "      <td>True</td>\n",
              "      <td>/questions/3918/will-the-emergency-telework-ac...</td>\n",
              "      <td>3918</td>\n",
              "    </tr>\n",
              "    <tr>\n",
              "      <th>70</th>\n",
              "      <td>By May 1 will there be an iOS or Android app t...</td>\n",
              "      <td>2020-03-28 13:28:37.595000+00:00</td>\n",
              "      <td>2020-04-21 07:00:00+00:00</td>\n",
              "      <td>True</td>\n",
              "      <td>False</td>\n",
              "      <td>/questions/3915/by-may-1-will-there-be-an-ios-...</td>\n",
              "      <td>3915</td>\n",
              "    </tr>\n",
              "    <tr>\n",
              "      <th>71</th>\n",
              "      <td>By June 1, how many tests for COVID-19 will ha...</td>\n",
              "      <td>2020-03-28 07:00:00+00:00</td>\n",
              "      <td>2020-04-21 07:00:00+00:00</td>\n",
              "      <td>True</td>\n",
              "      <td>False</td>\n",
              "      <td>/questions/3916/by-june-1-how-many-tests-for-c...</td>\n",
              "      <td>3916</td>\n",
              "    </tr>\n",
              "    <tr>\n",
              "      <th>82</th>\n",
              "      <td>How many days will the city of Seattle spend u...</td>\n",
              "      <td>2020-03-25 21:21:09+00:00</td>\n",
              "      <td>2020-04-21 06:59:00+00:00</td>\n",
              "      <td>True</td>\n",
              "      <td>True</td>\n",
              "      <td>/questions/3929/how-many-days-will-the-city-of...</td>\n",
              "      <td>3929</td>\n",
              "    </tr>\n",
              "    <tr>\n",
              "      <th>83</th>\n",
              "      <td>How many days will Washington state spend unde...</td>\n",
              "      <td>2020-03-25 21:19:47+00:00</td>\n",
              "      <td>2020-04-21 06:59:00+00:00</td>\n",
              "      <td>True</td>\n",
              "      <td>True</td>\n",
              "      <td>/questions/3928/how-many-days-will-washington-...</td>\n",
              "      <td>3928</td>\n",
              "    </tr>\n",
              "    <tr>\n",
              "      <th>84</th>\n",
              "      <td>How many days will New York City spend under l...</td>\n",
              "      <td>2020-03-25 21:18:03+00:00</td>\n",
              "      <td>2020-04-21 06:59:00+00:00</td>\n",
              "      <td>True</td>\n",
              "      <td>True</td>\n",
              "      <td>/questions/3927/how-many-days-will-new-york-ci...</td>\n",
              "      <td>3927</td>\n",
              "    </tr>\n",
              "  </tbody>\n",
              "</table>\n",
              "</div>"
            ],
            "text/plain": [
              "                                                title  ...    id\n",
              "46  Will the US Strategic National Stockpile suppl...  ...  4020\n",
              "60  What will the CBO estimate to be the cost of t...  ...  3920\n",
              "64  How many days will the average American spend ...  ...  3925\n",
              "68  What will Washington state’s Department of Rev...  ...  3923\n",
              "69  Will the Emergency Telework Act (S.3561) becom...  ...  3918\n",
              "70  By May 1 will there be an iOS or Android app t...  ...  3915\n",
              "71  By June 1, how many tests for COVID-19 will ha...  ...  3916\n",
              "82  How many days will the city of Seattle spend u...  ...  3929\n",
              "83  How many days will Washington state spend unde...  ...  3928\n",
              "84  How many days will New York City spend under l...  ...  3927\n",
              "\n",
              "[10 rows x 7 columns]"
            ]
          },
          "metadata": {
            "tags": []
          },
          "execution_count": 12
        }
      ]
    }
  ]
}