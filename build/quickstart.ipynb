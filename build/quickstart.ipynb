{
  "nbformat": 4,
  "nbformat_minor": 0,
  "metadata": {
    "colab": {
      "name": "Quickstart",
      "provenance": [],
      "collapsed_sections": [
        "maTou6hocLTE"
      ],
      "authorship_tag": "ABX9TyMnIWXH0zoPqedb0goMNGc0",
      "include_colab_link": true
    },
    "kernelspec": {
      "name": "python3",
      "display_name": "Python 3"
    }
  },
  "cells": [
    {
      "cell_type": "markdown",
      "metadata": {
        "id": "view-in-github",
        "colab_type": "text"
      },
      "source": [
        "<a href=\"https://colab.research.google.com/github/oughtinc/ergo/blob/master/notebooks/quickstart.ipynb\" target=\"_parent\"><img src=\"https://colab.research.google.com/assets/colab-badge.svg\" alt=\"Open In Colab\"/></a>"
      ]
    },
    {
      "cell_type": "markdown",
      "metadata": {
        "id": "maTou6hocLTE",
        "colab_type": "text"
      },
      "source": [
        "# Setup"
      ]
    },
    {
      "cell_type": "code",
      "metadata": {
        "id": "lyp6fM-Zb4ly",
        "colab_type": "code",
        "colab": {
          "base_uri": "https://localhost:8080/",
          "height": 0
        },
        "outputId": "64f0c3c6-072e-4f5e-fec3-99ec590ba331"
      },
      "source": [
        "!pip install --progress-bar off --quiet poetry\n",
        "!pip install --progress-bar off --quiet git+https://github.com/oughtinc/ergo.git"
      ],
      "execution_count": 3,
      "outputs": [
        {
          "output_type": "stream",
          "text": [
            "  Installing build dependencies ... \u001b[?25l\u001b[?25hdone\n",
            "  Getting requirements to build wheel ... \u001b[?25l\u001b[?25hdone\n",
            "    Preparing wheel metadata ... \u001b[?25l\u001b[?25hdone\n",
            "  Building wheel for ergo (PEP 517) ... \u001b[?25l\u001b[?25hdone\n"
          ],
          "name": "stdout"
        }
      ]
    },
    {
      "cell_type": "markdown",
      "metadata": {
        "id": "CWGrht6fc_GF",
        "colab_type": "text"
      },
      "source": [
        "# Load questions"
      ]
    },
    {
      "cell_type": "code",
      "metadata": {
        "id": "KEMFjKkQcPyD",
        "colab_type": "code",
        "colab": {}
      },
      "source": [
        "import ergo\n",
        "import seaborn"
      ],
      "execution_count": 0,
      "outputs": []
    },
    {
      "cell_type": "markdown",
      "metadata": {
        "id": "r0BkLCoNchJn",
        "colab_type": "text"
      },
      "source": [
        "Log into Metaculus:"
      ]
    },
    {
      "cell_type": "code",
      "metadata": {
        "id": "AHvdB2Zzcj7v",
        "colab_type": "code",
        "colab": {}
      },
      "source": [
        "metaculus = ergo.Metaculus(\n",
        "    username=\"YOUR-USERNAME\", \n",
        "    password=\"YOUR-PASSWORD\"\n",
        ")"
      ],
      "execution_count": 0,
      "outputs": []
    },
    {
      "cell_type": "markdown",
      "metadata": {
        "id": "5fMzhL7jc6dX",
        "colab_type": "text"
      },
      "source": [
        "Load some questions:"
      ]
    },
    {
      "cell_type": "code",
      "metadata": {
        "id": "1HqmElqReZm5",
        "colab_type": "code",
        "colab": {}
      },
      "source": [
        "q_infections = metaculus.get_question(3529, name=\"Covid-19 infections in 2020\")\n",
        "q_ratio = metaculus.get_question(3755, name=\"Covid-19 ratio of fatalities to infections\")"
      ],
      "execution_count": 0,
      "outputs": []
    },
    {
      "cell_type": "markdown",
      "metadata": {
        "id": "IrKjc3zmehYx",
        "colab_type": "text"
      },
      "source": [
        "Build a model:"
      ]
    },
    {
      "cell_type": "code",
      "metadata": {
        "id": "sZirbidReiR2",
        "colab_type": "code",
        "colab": {
          "base_uri": "https://localhost:8080/",
          "height": 34
        },
        "outputId": "3fd66857-aa69-4361-f251-3b4a3bdb5b58"
      },
      "source": [
        "def model():\n",
        "    infections = q_infections.sample_community()\n",
        "    ratio = q_ratio.sample_community()\n",
        "    deaths = infections * ratio\n",
        "    ergo.tag(deaths, \"Covid-19 deaths in 2020\")\n",
        "\n",
        "samples = ergo.run(model, num_samples=5000)"
      ],
      "execution_count": 8,
      "outputs": [
        {
          "output_type": "stream",
          "text": [
            "100%|██████████| 5000/5000 [00:05<00:00, 972.26it/s] \n"
          ],
          "name": "stderr"
        }
      ]
    },
    {
      "cell_type": "markdown",
      "metadata": {
        "id": "9rrA73ZMeqme",
        "colab_type": "text"
      },
      "source": [
        "Show samples:"
      ]
    },
    {
      "cell_type": "code",
      "metadata": {
        "id": "ZVxZVKkbesEY",
        "colab_type": "code",
        "colab": {
          "base_uri": "https://localhost:8080/",
          "height": 307
        },
        "outputId": "65eb6943-1cde-4e73-b2fe-fd83cee167e4"
      },
      "source": [
        "seaborn.distplot(samples[\"Covid-19 deaths in 2020\"])"
      ],
      "execution_count": 11,
      "outputs": [
        {
          "output_type": "execute_result",
          "data": {
            "text/plain": [
              "<matplotlib.axes._subplots.AxesSubplot at 0x7f2fe12cd588>"
            ]
          },
          "metadata": {
            "tags": []
          },
          "execution_count": 11
        },
        {
          "output_type": "display_data",
          "data": {
            "image/png": "[encoded data removed]",
            "text/plain": [
              "<Figure size 432x288 with 1 Axes>"
            ]
          },
          "metadata": {
            "tags": [],
            "needs_background": "light"
          }
        }
      ]
    }
  ]
}