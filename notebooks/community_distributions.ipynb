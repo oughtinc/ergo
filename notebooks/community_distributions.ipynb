{
  "nbformat": 4,
  "nbformat_minor": 0,
  "metadata": {
    "colab": {
      "name": "Sampling from Metaculus community distributions",
      "provenance": [],
      "collapsed_sections": [],
      "authorship_tag": "ABX9TyPbD9YBvMRPmDrloDafO1HX",
      "include_colab_link": true
    },
    "kernelspec": {
      "name": "python3",
      "display_name": "Python 3"
    }
  },
  "cells": [
    {
      "cell_type": "markdown",
      "metadata": {
        "id": "view-in-github",
        "colab_type": "text"
      },
      "source": [
        "<a href=\"https://colab.research.google.com/github/oughtinc/ergo/blob/community-prediction/notebook/community_distributions.ipynb\" target=\"_parent\"><img src=\"https://colab.research.google.com/assets/colab-badge.svg\" alt=\"Open In Colab\"/></a>"
      ]
    },
    {
      "cell_type": "markdown",
      "metadata": {
        "id": "EhBL389G-rEu",
        "colab_type": "text"  
      },
      "source": [
        "Show:\n",
        "- Narrow thing: How to make infections, ratio, and deaths predictions on Metaculus more consistent with each other\n", 
        "- Broad thing: Workflow that connects judgmental and model-based forecasting"
      ]
    },
    {
      "cell_type": "code",
      "metadata": {
        "id": "nhanawyV4JEb",
        "colab_type": "code",
        "colab": {}
      },
      "source": [
        "import ergo"
      ],
      "execution_count": 0,
      "outputs": []
    },
    {
      "cell_type": "markdown",
      "metadata": {
        "id": "CJFOosZD4HrI",
        "colab_type": "text"
      },
      "source": [
        "Log into Metaculus:"
      ]
    },
    {
      "cell_type": "code",
      "metadata": {
        "id": "1ir2AZDC4mdE",
        "colab_type": "code",
        "colab": {}
      },
      "source": [
        "metaculus = ergo.Metaculus(username=\"ought\", password=\"\")"
      ],
      "execution_count": 0,
      "outputs": []
    },
    {
      "cell_type": "markdown",
      "metadata": {
        "id": "YN_C7IHb4KEX",
        "colab_type": "text"
      },
      "source": [
        "Retrieve the questions we want to model, using IDs from URLs:"
      ]
    },
    {
      "cell_type": "code",
      "metadata": {
        "id": "KKtxb-Ay4Ng-",
        "colab_type": "code",
        "outputId": "d34aa15f-24d9-4bc8-8109-f7c7629a45ec",
        "colab": {
          "base_uri": "https://localhost:8080/",
          "height": 142
        }
      },
      "source": [
        "q_infections = metaculus.get_question(3529, name=\"infections\")\n",
        "q_deaths = metaculus.get_question(3530, name=\"deaths\")\n",
        "q_ratio = metaculus.get_question(3755, name=\"ratio\")\n",
        "\n",
        "ergo.MetaculusQuestion.to_dataframe([q_infections, q_deaths, q_ratio])"
      ],
      "execution_count": 3,
      "outputs": [
        {
          "output_type": "execute_result",
          "data": {
            "text/plain": [
              "     id        name                                              title  \\\n",
              "0  3529  infections  How many infections of COVID-19 will be estima...   \n",
              "1  3530      deaths  How many people will die as a result of the 20...   \n",
              "2  3755       ratio  What will be the ratio of fatalities to total ...   \n",
              "\n",
              "               resolve_time  \n",
              "0 2021-01-01 00:00:00+00:00  \n",
              "1 2021-01-01 00:00:00+00:00  \n",
              "2 2021-01-01 05:00:00+00:00  "
            ],
            "text/html": [
              "<div>\n",
              "<style scoped>\n",
              "    .dataframe tbody tr th:only-of-type {\n",
              "        vertical-align: middle;\n",
              "    }\n",
              "\n",
              "    .dataframe tbody tr th {\n",
              "        vertical-align: top;\n",
              "    }\n",
              "\n",
              "    .dataframe thead th {\n",
              "        text-align: right;\n",
              "    }\n",
              "</style>\n",
              "<table border=\"1\" class=\"dataframe\">\n",
              "  <thead>\n",
              "    <tr style=\"text-align: right;\">\n",
              "      <th></th>\n",
              "      <th>id</th>\n",
              "      <th>name</th>\n",
              "      <th>title</th>\n",
              "      <th>resolve_time</th>\n",
              "    </tr>\n",
              "  </thead>\n",
              "  <tbody>\n",
              "    <tr>\n",
              "      <th>0</th>\n",
              "      <td>3529</td>\n",
              "      <td>infections</td>\n",
              "      <td>How many infections of COVID-19 will be estima...</td>\n",
              "      <td>2021-01-01 00:00:00+00:00</td>\n",
              "    </tr>\n",
              "    <tr>\n",
              "      <th>1</th>\n",
              "      <td>3530</td>\n",
              "      <td>deaths</td>\n",
              "      <td>How many people will die as a result of the 20...</td>\n",
              "      <td>2021-01-01 00:00:00+00:00</td>\n",
              "    </tr>\n",
              "    <tr>\n",
              "      <th>2</th>\n",
              "      <td>3755</td>\n",
              "      <td>ratio</td>\n",
              "      <td>What will be the ratio of fatalities to total ...</td>\n",
              "      <td>2021-01-01 05:00:00+00:00</td>\n",
              "    </tr>\n",
              "  </tbody>\n",
              "</table>\n",
              "</div>"
            ]
          },
          "metadata": {
            "tags": []
          },
          "execution_count": 3
        }
      ]
    },
    {
      "cell_type": "markdown",
      "metadata": {
        "id": "ubplAWriD7ge",
        "colab_type": "text"
      },
      "source": [
        "Let's see the current community estimate for each question:"
      ]
    },
    {
      "cell_type": "code",
      "metadata": {
        "id": "41WIp0M8D7pN",
        "colab_type": "code",
        "colab": {}
      },
      "source": [
        "# TODO"
      ],
      "execution_count": 0,
      "outputs": []
    },
    {
      "cell_type": "markdown",
      "metadata": {
        "id": "w2QdPeKF4OQZ",
        "colab_type": "text"
      },
      "source": [
        "Build a model that relates the questions:"
      ]
    },
    {
      "cell_type": "code",
      "metadata": {
        "id": "zDBJ3BxIz5cA",
        "colab_type": "code",
        "outputId": "ec4b59d4-1244-4717-e268-f9a033d77b0d",
        "colab": {
          "base_uri": "https://localhost:8080/",
          "height": 436
        }
      },
      "source": [
        "def deaths_from_infections():\n",
        "  infections = q_infections.sample_community()\n",
        "  ratio = q_ratio.sample_community()\n",
        "  deaths = infections * ratio\n",
        "  ergo.tag(deaths, \"deaths\")\n",
        "  return deaths\n",
        "\n",
        "samples = ergo.run(deaths_from_infections, num_samples=5000)\n",
        "\n",
        "samples"
      ],
      "execution_count": 7,
      "outputs": [
        {
          "output_type": "stream",
          "text": [
            "100%|██████████| 5000/5000 [00:02<00:00, 2326.42it/s]\n"
          ],
          "name": "stderr"
        },
        {
          "output_type": "execute_result",
          "data": {
            "text/plain": [
              "        infections     ratio        deaths\n",
              "0     3.219898e+08  0.011343  3.652317e+06\n",
              "1     4.159977e+05  0.013316  5.539479e+03\n",
              "2     4.119393e+08  0.013625  5.612568e+06\n",
              "3     5.463975e+07  0.039994  2.185238e+06\n",
              "4     2.741159e+07  0.002618  7.175377e+04\n",
              "...            ...       ...           ...\n",
              "4995  8.211210e+08  0.015633  1.283622e+07\n",
              "4996  1.129191e+07  0.002444  2.759480e+04\n",
              "4997  1.375182e+07  0.005575  7.667059e+04\n",
              "4998  1.144145e+08  0.010835  1.239672e+06\n",
              "4999  3.732815e+08  0.009886  3.690297e+06\n",
              "\n",
              "[5000 rows x 3 columns]"
            ],
            "text/html": [
              "<div>\n",
              "<style scoped>\n",
              "    .dataframe tbody tr th:only-of-type {\n",
              "        vertical-align: middle;\n",
              "    }\n",
              "\n",
              "    .dataframe tbody tr th {\n",
              "        vertical-align: top;\n",
              "    }\n",
              "\n",
              "    .dataframe thead th {\n",
              "        text-align: right;\n",
              "    }\n",
              "</style>\n",
              "<table border=\"1\" class=\"dataframe\">\n",
              "  <thead>\n",
              "    <tr style=\"text-align: right;\">\n",
              "      <th></th>\n",
              "      <th>infections</th>\n",
              "      <th>ratio</th>\n",
              "      <th>deaths</th>\n",
              "    </tr>\n",
              "  </thead>\n",
              "  <tbody>\n",
              "    <tr>\n",
              "      <th>0</th>\n",
              "      <td>3.219898e+08</td>\n",
              "      <td>0.011343</td>\n",
              "      <td>3.652317e+06</td>\n",
              "    </tr>\n",
              "    <tr>\n",
              "      <th>1</th>\n",
              "      <td>4.159977e+05</td>\n",
              "      <td>0.013316</td>\n",
              "      <td>5.539479e+03</td>\n",
              "    </tr>\n",
              "    <tr>\n",
              "      <th>2</th>\n",
              "      <td>4.119393e+08</td>\n",
              "      <td>0.013625</td>\n",
              "      <td>5.612568e+06</td>\n",
              "    </tr>\n",
              "    <tr>\n",
              "      <th>3</th>\n",
              "      <td>5.463975e+07</td>\n",
              "      <td>0.039994</td>\n",
              "      <td>2.185238e+06</td>\n",
              "    </tr>\n",
              "    <tr>\n",
              "      <th>4</th>\n",
              "      <td>2.741159e+07</td>\n",
              "      <td>0.002618</td>\n",
              "      <td>7.175377e+04</td>\n",
              "    </tr>\n",
              "    <tr>\n",
              "      <th>...</th>\n",
              "      <td>...</td>\n",
              "      <td>...</td>\n",
              "      <td>...</td>\n",
              "    </tr>\n",
              "    <tr>\n",
              "      <th>4995</th>\n",
              "      <td>8.211210e+08</td>\n",
              "      <td>0.015633</td>\n",
              "      <td>1.283622e+07</td>\n",
              "    </tr>\n",
              "    <tr>\n",
              "      <th>4996</th>\n",
              "      <td>1.129191e+07</td>\n",
              "      <td>0.002444</td>\n",
              "      <td>2.759480e+04</td>\n",
              "    </tr>\n",
              "    <tr>\n",
              "      <th>4997</th>\n",
              "      <td>1.375182e+07</td>\n",
              "      <td>0.005575</td>\n",
              "      <td>7.667059e+04</td>\n",
              "    </tr>\n",
              "    <tr>\n",
              "      <th>4998</th>\n",
              "      <td>1.144145e+08</td>\n",
              "      <td>0.010835</td>\n",
              "      <td>1.239672e+06</td>\n",
              "    </tr>\n",
              "    <tr>\n",
              "      <th>4999</th>\n",
              "      <td>3.732815e+08</td>\n",
              "      <td>0.009886</td>\n",
              "      <td>3.690297e+06</td>\n",
              "    </tr>\n",
              "  </tbody>\n",
              "</table>\n",
              "<p>5000 rows × 3 columns</p>\n",
              "</div>"
            ]
          },
          "metadata": {
            "tags": []
          },
          "execution_count": 7
        }
      ]
    },
    {
      "cell_type": "markdown",
      "metadata": {
        "id": "yIqav8n244K3",
        "colab_type": "text"
      },
      "source": [
        "Compare with the community prediction for the deaths question:"
      ]
    },
    {
      "cell_type": "code",
      "metadata": {
        "id": "XTCVUHqK462X",
        "colab_type": "code",
        "outputId": "9fabf3c2-9400-42d6-bd55-c3f9b2068a9a",
        "colab": {
          "base_uri": "https://localhost:8080/",
          "height": 313
        }
      },
      "source": [
        "import seaborn\n",
        "import numpy as np\n",
        "import matplotlib.pyplot as plt\n",
        "\n",
        "ax = seaborn.distplot(np.log(samples[\"deaths\"]), label=\"Model estimate\") # log deaths, estimated \n",
        "seaborn.distplot(np.log(ergo.run(q_deaths.sample_community)), label=\"Community prediction\")\n",
        "plt.legend()\n",
        "ax.set(xlabel='Log deaths', ylabel='Density')"
      ],
      "execution_count": 5,
      "outputs": [
        {
          "output_type": "stream",
          "text": [
            "100%|██████████| 5000/5000 [00:01<00:00, 4921.27it/s]\n"
          ],
          "name": "stderr"
        },
        {
          "output_type": "execute_result",
          "data": {
            "text/plain": [
              "[Text(0, 0.5, 'Density'), Text(0.5, 0, 'Log deaths')]"
            ]
          },
          "metadata": {
            "tags": []
          },
          "execution_count": 5
        },
        {
          "output_type": "display_data",
          "data": {
            "text/plain": [
              "<Figure size 432x288 with 1 Axes>"
            ],
            "image/png": "[encoded data removed]"
          },
          "metadata": {
            "tags": [],
            "needs_background": "light"
          }
        }
      ]
    },
    {
      "cell_type": "markdown",
      "metadata": {
        "id": "tHopAqF85t9f",
        "colab_type": "text"
      },
      "source": [
        "Mostly defer to community's estimates of death directly, but to the\n",
        "extent that it's inconsistent with what community estimates for ratio\n",
        "and infections imply, we want to update in that direction. so\n",
        "mix our model estimate with community prediction for deaths:"
      ]
    },
    {
      "cell_type": "code",
      "metadata": {
        "id": "qfNyzIDu5mSe",
        "colab_type": "code",
        "colab": {}
      },
      "source": [
        "def deaths_adjusted():\n",
        "  if ergo.flip(.66):\n",
        "    deaths = q_deaths.sample_community()\n",
        "  else:\n",
        "    deaths = deaths_from_infections()\n",
        "  ergo.tag(deaths, \"deaths_adjusted\")\n",
        "\n",
        "samples = ergo.run(deaths_adjusted, num_samples=5000)\n",
        "\n",
        "# FIXME: Need to make dataframe construction from samples work for models \n",
        "# with variable structure\n",
        "\n",
        "seaborn.distplot(np.log(samples[\"deaths_adjusted\"]))"
      ],
      "execution_count": 0,
      "outputs": []
    },
    {
      "cell_type": "markdown",
      "metadata": {
        "id": "cotB4xww5xiR",
        "colab_type": "text"
      },
      "source": [
        "Submit new distribution on deaths to Metaculus"
      ]
    },
    {
      "cell_type": "code",
      "metadata": {
        "id": "R8XbqI_a57on",
        "colab_type": "code",
        "colab": {}
      },
      "source": [
        ""
      ],
      "execution_count": 0,
      "outputs": []
    },
    {
      "cell_type": "markdown",
      "metadata": {
        "id": "OXznq8xu5yAP",
        "colab_type": "text"
      },
      "source": [
        "**Exercise:** Apply the same idea to estimating infections from deaths"
      ]
    }
  ]
}
