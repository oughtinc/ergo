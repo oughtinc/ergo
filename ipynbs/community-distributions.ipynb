{
 "cells": [
  {
   "cell_type": "markdown",
   "metadata": {
    "colab_type": "text",
    "id": "view-in-github"
   },
   "source": [
    "<a href=\"https://colab.research.google.com/github/oughtinc/ergo/blob/master/notebooks/community-distributions.ipynb\" target=\"_parent\"><img src=\"https://colab.research.google.com/assets/colab-badge.svg\" alt=\"Open In Colab\"/></a>"
   ]
  },
  {
   "cell_type": "markdown",
   "metadata": {
    "colab_type": "text",
    "id": "EhBL389G-rEu"
   },
   "source": [
    "## Show"
   ]
  },
  {
   "cell_type": "markdown",
   "metadata": {
    "colab_type": "text",
    "id": "zNRCXd0XFVpM"
   },
   "source": [
    "- Making COVID infections, deaths, and infections/death ratio predictions on Metaculus more consistent with each other\n",
    "- More broadly: a workflow that connects judgmental and model-based forecasting"
   ]
  },
  {
   "cell_type": "markdown",
   "metadata": {
    "colab_type": "text",
    "id": "CJFOosZD4HrI"
   },
   "source": [
    "## Setup"
   ]
  },
  {
   "cell_type": "code",
   "execution_count": null,
   "metadata": {
    "colab": {},
    "colab_type": "code",
    "id": "XZLCfhi8psDd"
   },
   "outputs": [],
   "source": [
    "%%capture\n",
    "%pip install --quiet poetry  # Fixes https://github.com/python-poetry/poetry/issues/532\n",
    "%pip install --quiet git+https://github.com/oughtinc/ergo.git"
   ]
  },
  {
   "cell_type": "code",
   "execution_count": null,
   "metadata": {
    "colab": {},
    "colab_type": "code",
    "id": "nhanawyV4JEb"
   },
   "outputs": [],
   "source": [
    "import ergo\n",
    "import seaborn\n",
    "import numpy as np"
   ]
  },
  {
   "cell_type": "code",
   "execution_count": null,
   "metadata": {
    "colab": {},
    "colab_type": "code",
    "id": "1ir2AZDC4mdE"
   },
   "outputs": [],
   "source": [
    "metaculus = ergo.Metaculus(username=\"oughtpublic\", password=\"123456\")"
   ]
  },
  {
   "cell_type": "markdown",
   "metadata": {
    "colab_type": "text",
    "id": "6kxZ4y0QFkBa"
   },
   "source": [
    "## Look at questions on Metaculus\n",
    "* [Total COVID infections before 2021](https://www.metaculus.com/questions/3529/how-many-infections-of-covid-19-will-be-estimated-to-have-occurred-before-2021-50k-1b-range/)\n",
    "* [Total COVID deaths before 2021](https://www.metaculus.com/questions/3530/how-many-people-will-die-as-a-result-of-the-2019-novel-coronavirus-covid-19-before-2021/)\n",
    "* [Chance of dying of COVID if you get it](https://www.metaculus.com/questions/3755/what-will-be-the-ratio-of-fatalities-to-total-estimated-infections-for-covid-19-by-the-end-of-2020/)\n",
    "\n"
   ]
  },
  {
   "cell_type": "markdown",
   "metadata": {
    "colab_type": "text",
    "id": "YN_C7IHb4KEX"
   },
   "source": [
    "### Load questions"
   ]
  },
  {
   "cell_type": "code",
   "execution_count": null,
   "metadata": {
    "colab": {},
    "colab_type": "code",
    "id": "KKtxb-Ay4Ng-"
   },
   "outputs": [],
   "source": [
    "q_infections = metaculus.get_question(3529, name=\"infections\")\n",
    "q_deaths = metaculus.get_question(3530, name=\"deaths\")\n",
    "q_ratio = metaculus.get_question(3755, name=\"ratio\")\n",
    "\n",
    "questions = [q_infections, q_deaths, q_ratio]"
   ]
  },
  {
   "cell_type": "markdown",
   "metadata": {
    "colab_type": "text",
    "id": "ubplAWriD7ge"
   },
   "source": [
    "### Show community estimate for each question"
   ]
  },
  {
   "cell_type": "code",
   "execution_count": null,
   "metadata": {
    "colab": {
     "base_uri": "https://localhost:8080/",
     "height": 955
    },
    "colab_type": "code",
    "id": "UsFrR1M1DzsS",
    "outputId": "858e8090-d8b2-44c5-be93-5457c265a963"
   },
   "outputs": [],
   "source": [
    "[question.show_community_prediction() for question in questions];"
   ]
  },
  {
   "cell_type": "markdown",
   "metadata": {
    "colab_type": "text",
    "id": "w2QdPeKF4OQZ"
   },
   "source": [
    "## Model deaths based on the infection and ratio community estimates"
   ]
  },
  {
   "cell_type": "markdown",
   "metadata": {
    "colab_type": "text",
    "id": "2ALoEWpvr9UR"
   },
   "source": [
    "Deaths = infections * deaths/infection"
   ]
  },
  {
   "cell_type": "code",
   "execution_count": null,
   "metadata": {
    "colab": {},
    "colab_type": "code",
    "id": "zDBJ3BxIz5cA"
   },
   "outputs": [],
   "source": [
    "%%capture\n",
    "def deaths_from_infections():\n",
    "  infections = q_infections.sample_community()\n",
    "  ratio = q_ratio.sample_community()\n",
    "  deaths = q_deaths.sample_community()\n",
    "  ergo.tag(deaths, \"deaths\")\n",
    "  return deaths\n",
    "\n",
    "samples = ergo.run(deaths_from_infections, num_samples=5000)"
   ]
  },
  {
   "cell_type": "markdown",
   "metadata": {
    "colab_type": "text",
    "id": "xc8_Nt40pIXS"
   },
   "source": [
    "### How does our model prediction compare to the community prediction?"
   ]
  },
  {
   "cell_type": "code",
   "execution_count": null,
   "metadata": {
    "colab": {
     "base_uri": "https://localhost:8080/",
     "height": 396
    },
    "colab_type": "code",
    "id": "243Ts0Iqr8hc",
    "outputId": "32b7e98f-8eb5-424e-a27f-1d2e4131a1ee"
   },
   "outputs": [],
   "source": [
    "q_deaths.show_submission(samples[\"deaths\"], show_community=True)"
   ]
  },
  {
   "cell_type": "markdown",
   "metadata": {
    "colab_type": "text",
    "id": "yIqav8n244K3"
   },
   "source": [
    "### Combine our model with the community prediction"
   ]
  },
  {
   "cell_type": "markdown",
   "metadata": {
    "colab_type": "text",
    "id": "tHopAqF85t9f"
   },
   "source": [
    "Mostly defer to the community's predictions on the deaths question, but update a bit towards the model that's based on infections * deaths/infection."
   ]
  },
  {
   "cell_type": "code",
   "execution_count": null,
   "metadata": {
    "colab": {},
    "colab_type": "code",
    "id": "qfNyzIDu5mSe"
   },
   "outputs": [],
   "source": [
    "%%capture\n",
    "def deaths_adjusted():\n",
    "  if ergo.flip(.66):\n",
    "    deaths = q_deaths.sample_community()\n",
    "  else:\n",
    "    deaths = deaths_from_infections()\n",
    "  ergo.tag(deaths, \"adjusted_deaths\")\n",
    "\n",
    "samples = ergo.run(deaths_adjusted, num_samples=5000)\n",
    "\n",
    "adjusted_samples = samples[\"adjusted_deaths\"]"
   ]
  },
  {
   "cell_type": "code",
   "execution_count": null,
   "metadata": {
    "colab": {
     "base_uri": "https://localhost:8080/",
     "height": 362
    },
    "colab_type": "code",
    "id": "l7Mi7NGr8Do6",
    "outputId": "a5d0a8f1-3421-49e4-bc26-29cb064b1020"
   },
   "outputs": [],
   "source": [
    "q_deaths.show_submission(adjusted_samples, show_community=True)"
   ]
  },
  {
   "cell_type": "markdown",
   "metadata": {
    "colab_type": "text",
    "id": "cotB4xww5xiR"
   },
   "source": [
    "## Submit new distribution on deaths to Metaculus"
   ]
  },
  {
   "cell_type": "code",
   "execution_count": null,
   "metadata": {
    "colab": {},
    "colab_type": "code",
    "id": "R8XbqI_a57on"
   },
   "outputs": [],
   "source": [
    "%%capture\n",
    "q_deaths.submit_from_samples(adjusted_samples)"
   ]
  },
  {
   "cell_type": "markdown",
   "metadata": {
    "colab_type": "text",
    "id": "OXznq8xu5yAP"
   },
   "source": [
    "**Exercise:** Apply the same idea to estimating infections from deaths"
   ]
  }
 ],
 "metadata": {
  "jupytext": {
   "main_language": "python"
  },
  "kernelspec": {
   "display_name": "Python 3",
   "name": "python3"
  }
 },
 "nbformat": 4,
 "nbformat_minor": 4
}
