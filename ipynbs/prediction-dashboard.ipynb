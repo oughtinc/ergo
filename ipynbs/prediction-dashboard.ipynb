{
 "cells": [
  {
   "cell_type": "markdown",
   "metadata": {
    "colab_type": "text",
    "id": "rDEO4es_iFKZ"
   },
   "source": [
    "# Setup"
   ]
  },
  {
   "cell_type": "code",
   "execution_count": null,
   "metadata": {
    "colab": {},
    "colab_type": "code",
    "id": "cB14hIdmlhm8"
   },
   "outputs": [],
   "source": [
    "%%capture\n",
    "%pip install --quiet poetry  # Fixes https://github.com/python-poetry/poetry/issues/532\n",
    "%pip install --quiet git+https://github.com/oughtinc/ergo.git"
   ]
  },
  {
   "cell_type": "code",
   "execution_count": null,
   "metadata": {
    "colab": {},
    "colab_type": "code",
    "id": "ByItyTjYteQs"
   },
   "outputs": [],
   "source": [
    "import ergo\n",
    "import pendulum\n",
    "import pandas as pd;"
   ]
  },
  {
   "cell_type": "code",
   "execution_count": null,
   "metadata": {
    "colab": {},
    "colab_type": "code",
    "id": "FOxYRu-_teev"
   },
   "outputs": [],
   "source": [
    "%load_ext google.colab.data_table"
   ]
  },
  {
   "cell_type": "code",
   "execution_count": null,
   "metadata": {
    "colab": {},
    "colab_type": "code",
    "id": "KBopEv3DnbVK"
   },
   "outputs": [],
   "source": [
    "metaculus = ergo.Metaculus(username=\"oughtpublic\", password=\"123456\", api_domain=\"pandemic\")"
   ]
  },
  {
   "cell_type": "markdown",
   "metadata": {
    "colab_type": "text",
    "id": "q_ZEfG6rN8bZ"
   },
   "source": [
    "# Dashboard"
   ]
  },
  {
   "cell_type": "markdown",
   "metadata": {
    "colab_type": "text",
    "id": "V7RFQ-z1370Z"
   },
   "source": [
    "## Resolved questions"
   ]
  },
  {
   "cell_type": "code",
   "execution_count": null,
   "metadata": {
    "colab": {},
    "colab_type": "code",
    "id": "fEwT9cMgAH6c"
   },
   "outputs": [],
   "source": [
    "resolved_predictions = metaculus.make_questions_df(metaculus.get_questions_json(question_status=\"resolved\", player_status=\"predicted\", pages=9999))"
   ]
  },
  {
   "cell_type": "code",
   "execution_count": null,
   "metadata": {
    "colab": {
     "base_uri": "https://localhost:8080/",
     "height": 606
    },
    "colab_type": "code",
    "id": "IqtjAdsXBX-o",
    "outputId": "561fd9ff-a38d-4a8b-c14a-d8d6dbe0ce86"
   },
   "outputs": [],
   "source": [
    "resolved_predictions[[\"title\", \"resolve_time\", \"i_created\", \"url\", \"id\"]]"
   ]
  },
  {
   "cell_type": "markdown",
   "metadata": {
    "colab_type": "text",
    "id": "umvzKDhfDRj6"
   },
   "source": [
    "(Compare https://pandemic.metaculus.com/questions/?order_by=-resolve_time&status=resolved&guessed_by=1120040"
   ]
  },
  {
   "cell_type": "markdown",
   "metadata": {
    "colab_type": "text",
    "id": "Ax4G-7s7mhKU"
   },
   "source": [
    "## Open questions"
   ]
  },
  {
   "cell_type": "code",
   "execution_count": null,
   "metadata": {
    "colab": {},
    "colab_type": "code",
    "id": "LIoW84j7gXib"
   },
   "outputs": [],
   "source": [
    "open = metaculus.make_questions_df(metaculus.get_questions_json(question_status=\"open\", player_status=\"any\", pages=9999))"
   ]
  },
  {
   "cell_type": "markdown",
   "metadata": {
    "colab_type": "text",
    "id": "TgEFZwIidrBp"
   },
   "source": [
    "### Published on or after Mar 25, closing on or before Apr 25"
   ]
  },
  {
   "cell_type": "code",
   "execution_count": null,
   "metadata": {
    "colab": {},
    "colab_type": "code",
    "id": "W8hUhi_edyRB"
   },
   "outputs": [],
   "source": [
    "after_mar_25 = open[open[\"publish_time\"] > pendulum.datetime(2020,3,24, tz=\"America/Los_Angeles\")]\n",
    "before_apr_25 = after_mar_25[after_mar_25[\"close_time\"] < pendulum.datetime(2020,4,26, tz=\"America/Los_Angeles\")]"
   ]
  },
  {
   "cell_type": "code",
   "execution_count": null,
   "metadata": {
    "colab": {
     "base_uri": "https://localhost:8080/",
     "height": 714
    },
    "colab_type": "code",
    "id": "JrOEMCFWl6DK",
    "outputId": "5dd44bec-972a-4919-cc96-2f252c8e8014"
   },
   "outputs": [],
   "source": [
    "before_apr_25[[\"title\", \"publish_time\", \"close_time\", \"i_predicted\", \"i_created\", \"page_url\", \"id\"]]"
   ]
  }
 ],
 "metadata": {
  "jupytext": {
   "main_language": "python"
  },
  "kernelspec": {
   "display_name": "Python 3",
   "name": "python3"
  }
 },
 "nbformat": 4,
 "nbformat_minor": 4
}
