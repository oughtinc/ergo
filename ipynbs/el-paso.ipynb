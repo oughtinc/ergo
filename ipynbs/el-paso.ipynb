{
 "cells": [
  {
   "cell_type": "markdown",
   "metadata": {
    "colab_type": "text",
    "id": "Q_-THNG8VDkh"
   },
   "source": [
    "# Setup"
   ]
  },
  {
   "cell_type": "code",
   "execution_count": null,
   "metadata": {
    "colab": {},
    "colab_type": "code",
    "id": "14bP3Mm6U4JT"
   },
   "outputs": [],
   "source": [
    "%%capture\n",
    "%pip install poetry\n",
    "%pip install git+https://github.com/oughtinc/ergo.git@2db021ae614e80bdd92ef5618338ef02ff245905\n",
    "%pip install xlrd\n"
   ]
  },
  {
   "cell_type": "code",
   "execution_count": null,
   "metadata": {
    "colab": {},
    "colab_type": "code",
    "id": "Mu7ON6p_VHo6"
   },
   "outputs": [],
   "source": [
    "%load_ext google.colab.data_table"
   ]
  },
  {
   "cell_type": "code",
   "execution_count": null,
   "metadata": {
    "colab": {},
    "colab_type": "code",
    "id": "GUs6gmy-VJg_"
   },
   "outputs": [],
   "source": [
    "%%capture\n",
    "import ergo\n",
    "import numpy as np\n",
    "import pandas as pd\n",
    "import ssl\n",
    "import math\n",
    "import datetime\n",
    "import warnings\n",
    "import functools\n",
    "from datetime import timedelta, date\n",
    "from notebook_utilities.el_paso import *  "
   ]
  },
  {
   "cell_type": "code",
   "execution_count": null,
   "metadata": {
    "colab": {},
    "colab_type": "code",
    "id": "6vH8dOGwVMh4"
   },
   "outputs": [],
   "source": [
    "warnings.filterwarnings(module=\"plotnine\", action=\"ignore\")\n",
    "warnings.filterwarnings(module=\"jax\", action=\"ignore\")\n",
    "ssl._create_default_https_context = ssl._create_unverified_context"
   ]
  },
  {
   "cell_type": "code",
   "execution_count": null,
   "metadata": {
    "colab": {},
    "colab_type": "code",
    "id": "sFOWHXjaVYep"
   },
   "outputs": [],
   "source": [
    "metaculus = ergo.Metaculus(\n",
    "    username=\"oughtpublic\", \n",
    "    password=\"123456\",\n",
    "    api_domain = \"pandemic\"\n",
    ")"
   ]
  },
  {
   "cell_type": "markdown",
   "metadata": {
    "colab_type": "text",
    "id": "KLgXU7LdVkjk"
   },
   "source": [
    "# Ergo extensions"
   ]
  },
  {
   "cell_type": "markdown",
   "metadata": {
    "colab_type": "text",
    "id": "so5gNjQAVmEr"
   },
   "source": [
    "We'll define some helper functions that might get moved into Ergo in the future."
   ]
  },
  {
   "cell_type": "code",
   "execution_count": null,
   "metadata": {
    "colab": {},
    "colab_type": "code",
    "id": "jXROZqtXV-Rt"
   },
   "outputs": [],
   "source": [
    "START_DATE = date(2020, 4, 1)\n",
    "\n",
    "\n",
    "def daterange(start_date, end_date):\n",
    "    for n in range(int((end_date - start_date).days)):\n",
    "        yield start_date + timedelta(n)\n",
    "\n",
    "\n",
    "# Memoization\n",
    "\n",
    "memoized_functions = []\n",
    "\n",
    "def mem(func):\n",
    "    func = functools.lru_cache(None)(func)\n",
    "    memoized_functions.append(func)\n",
    "    return func\n",
    "\n",
    "def clear_mem():\n",
    "    for func in memoized_functions:\n",
    "        func.cache_clear()\n",
    "\n",
    "# Associate models with questions\n",
    "\n",
    "# We'll add a sampler here for each question we predict on. \n",
    "# Each sampler is a function that returns a single sample\n",
    "# from our model predicting on that question.\n",
    "samplers = {}\n",
    "\n",
    "def question(question_id, community_weight=0):\n",
    "    q = metaculus.get_question(question_id)\n",
    "\n",
    "    def decorator(func):\n",
    "        tag = func.__name__\n",
    "\n",
    "        @functools.wraps(func)\n",
    "        @mem\n",
    "        def sampler():\n",
    "            if ergo.flip(community_weight):\n",
    "                value = q.sample_community()\n",
    "            else:\n",
    "                value = func()\n",
    "            if isinstance(value, date):\n",
    "                # FIXME: Ergo needs to handle dates\n",
    "                ergo.tag(int((value - START_DATE).days), tag)\n",
    "            else:\n",
    "                ergo.tag(value, tag)\n",
    "            return value\n",
    "        sampler.question = q\n",
    "        samplers[q.id] = sampler\n",
    "        return sampler\n",
    "    return decorator\n",
    "\n",
    "def summarize_question_samples(samples):\n",
    "    sampler_tags = [sampler.__name__ for sampler in samplers.values()]\n",
    "    tags_to_show = [tag for tag in sampler_tags if tag in samples.columns]\n",
    "    samples_to_show = samples[tags_to_show]\n",
    "    summary = samples_to_show.describe().transpose().round(2)\n",
    "    display(summary)\n",
    "\n",
    "def plot_question(sampler, num_samples=200, bw=None):\n",
    "  def model():\n",
    "      clear_mem()\n",
    "      sampler()\n",
    "\n",
    "  samples = ergo.run(model, num_samples=num_samples)\n",
    "\n",
    "  summarize_question_samples(samples)\n",
    "\n",
    "  q = sampler.question\n",
    "\n",
    "  q_samples = samples[sampler.__name__]\n",
    "\n",
    "  if q.id == 4128: # Date question: Need to convert back to date from days (https://github.com/oughtinc/ergo/issues/144)\n",
    "      q_samples = np.array([START_DATE + timedelta(s) for s in q_samples])\n",
    "\n",
    "  if bw is not None:\n",
    "      q.show_prediction(samples=q_samples, show_community=True, percent_kept=0.9, bw=bw)\n",
    "  else:\n",
    "      q.show_prediction(samples=q_samples, show_community=True, percent_kept=0.9)"
   ]
  },
  {
   "cell_type": "markdown",
   "metadata": {
    "colab_type": "text",
    "id": "YHJ07K0oWBvb"
   },
   "source": [
    "# External data (cases, estimates, models)"
   ]
  },
  {
   "cell_type": "markdown",
   "metadata": {
    "colab_type": "text",
    "id": "AuaIf5qUT9Qw"
   },
   "source": [
    "## Texas government cases data"
   ]
  },
  {
   "cell_type": "code",
   "execution_count": null,
   "metadata": {
    "colab": {
     "base_uri": "https://localhost:8080/",
     "height": 642
    },
    "colab_type": "code",
    "id": "PMIpyw_lA9fv",
    "outputId": "b7816317-2eb8-44ca-efef-5198d332e901"
   },
   "outputs": [],
   "source": [
    "el_paso_cases = texas_data.get_el_paso_data()\n",
    "\n",
    "el_paso_cases"
   ]
  },
  {
   "cell_type": "markdown",
   "metadata": {
    "colab_type": "text",
    "id": "8e1F7mXTUDPm"
   },
   "source": [
    "## @onlyasith's cases model\n",
    "\n"
   ]
  },
  {
   "cell_type": "markdown",
   "metadata": {
    "colab_type": "text",
    "id": "b7gIpN_oUKoV"
   },
   "source": [
    "Pulled [here](https://docs.google.com/spreadsheets/d/1L6pzFAEJ6MfnUwt-ea6tetKyvdi0YubnK_70SGm436c/edit#gid=1807978187)"
   ]
  },
  {
   "cell_type": "code",
   "execution_count": null,
   "metadata": {
    "colab": {
     "base_uri": "https://localhost:8080/",
     "height": 0
    },
    "colab_type": "code",
    "id": "KRCw-5w_UG9p",
    "outputId": "9a6d2a31-4f67-4d92-a678-53c68982c671"
   },
   "outputs": [],
   "source": [
    "projected_cases = onlyasith.get_onlyasith_results()\n",
    "\n",
    "projected_cases"
   ]
  },
  {
   "cell_type": "markdown",
   "metadata": {
    "colab_type": "text",
    "id": "yMiICBUrh5eQ"
   },
   "source": [
    "## @KrisMoore's compiled data\n",
    "\n",
    "Pulled [here](https://docs.google.com/spreadsheets/d/1eGF9xYmDmvAkr-dCmd-N4efHzPyYEfVl0YmL9zBvH9Q/edit#gid=1694267458)."
   ]
  },
  {
   "cell_type": "code",
   "execution_count": null,
   "metadata": {
    "colab": {
     "base_uri": "https://localhost:8080/",
     "height": 0
    },
    "colab_type": "code",
    "id": "3a4gqniKiRMv",
    "outputId": "a1d9613c-9e6b-48fe-f68a-32f45f0060c2"
   },
   "outputs": [],
   "source": [
    "compiled_data = krismoore.get_krismoore_data()\n",
    "\n",
    "compiled_data"
   ]
  },
  {
   "cell_type": "markdown",
   "metadata": {
    "colab_type": "text",
    "id": "zj9Ow70dXTpp"
   },
   "source": [
    "## @brachbach model (cases -> hospitalized)"
   ]
  },
  {
   "cell_type": "code",
   "execution_count": null,
   "metadata": {
    "colab": {},
    "colab_type": "code",
    "id": "HXvkT9LGXYYL"
   },
   "outputs": [],
   "source": [
    "get_daily_hospital_confirmed = brachbach.get_daily_hospital_confirmed"
   ]
  },
  {
   "cell_type": "markdown",
   "metadata": {
    "colab_type": "text",
    "id": "f5vxl9NyWuHv"
   },
   "source": [
    "# Model components"
   ]
  },
  {
   "cell_type": "code",
   "execution_count": null,
   "metadata": {
    "colab": {},
    "colab_type": "code",
    "id": "chX3ETQOW6Ro"
   },
   "outputs": [],
   "source": [
    "@mem\n",
    "def daily_infections(date: date) -> int:\n",
    "    \"\"\"\n",
    "    What is the number of reported (new) Covid-19 infections on [date]?\n",
    "    \"\"\"\n",
    "    try:\n",
    "        # Look up Texas Government data\n",
    "        new_cases = el_paso_cases.loc[date, \"New cases\"]\n",
    "        if np.isnan(new_cases):\n",
    "            raise KeyError\n",
    "        return new_cases\n",
    "    except KeyError:\n",
    "        try:\n",
    "            # Look up projections from @onlyasith's model\n",
    "            cases = projected_cases.loc[date, \"New cases\"]\n",
    "            if np.isnan(cases):\n",
    "                raise KeyError\n",
    "            \n",
    "            # Add some (fairly arbitrary) uncertainty around this point estimate\n",
    "            if cases == 0:\n",
    "              return cases\n",
    "            cases_estimate = ergo.lognormal_from_interval(cases * 0.8, cases * 1.2)\n",
    "            return np.clip(cases_estimate, cases * 0.5, cases * 2)\n",
    "        except KeyError:\n",
    "            # We're beyond the time range for data and model\n",
    "            return 0\n",
    "\n",
    "@mem\n",
    "def mean_infections(start_date: date, end_date: date):\n",
    "    \"\"\"\n",
    "    What is the average number of reported new infections for this range of \n",
    "    dates? (Including start date, excluding end date)\n",
    "    \"\"\"\n",
    "    days = daterange(start_date, end_date)\n",
    "    return np.mean([daily_infections(day) for day in days])\n",
    "\n",
    "# Build @brachbach model\n",
    "hospital_confirmed_from_daily_infected_model = get_daily_hospital_confirmed(compiled_data, daily_infections)\n",
    "\n",
    "@mem\n",
    "def hospital_confirmed_for_date(date: date) -> int:\n",
    "    \"\"\"\n",
    "    The total number of lab-confirmed COVID-19 patients in El Paso County in\n",
    "    the hospital on this date\n",
    "    \"\"\"\n",
    "    try:\n",
    "        # Look up in-hospital confirmed cases from @KrisMoore's compiled data\n",
    "        new_hospital_confirmed = compiled_data.loc[date, \"In hospital confirmed\"]\n",
    "        if np.isnan(new_hospital_confirmed):\n",
    "            raise KeyError\n",
    "        return new_hospital_confirmed\n",
    "    except KeyError:\n",
    "        try:\n",
    "            # Get point estimate from @brachbach's regression model\n",
    "            cases = hospital_confirmed_from_daily_infected_model(date)\n",
    "            \n",
    "            # Add some (fairly arbitrary) uncertainty around this point estimate\n",
    "            if cases == 0:\n",
    "              return cases\n",
    "            cases_estimate = ergo.lognormal_from_interval(cases * 0.8, cases * 1.2)\n",
    "            return np.clip(cases_estimate, cases * 0.5, cases * 2)\n",
    "        except KeyError:\n",
    "            return 0\n",
    "\n",
    "@mem\n",
    "def frac_icu_ventilation():\n",
    "    \"\"\"\n",
    "    Proportion of ICU admissions requiring ventilation\n",
    "\n",
    "    Approach (PabloStafforini et al): \n",
    "    https://pandemic.metaculus.com/questions/4154/#comment-28155\n",
    "\n",
    "    TODO: \n",
    "    - Improve how we use case data\n",
    "    - Add qualitative adjustments\n",
    "    \"\"\"\n",
    "    ventilation_pseudocounts = 25 + 17 + 0.05 * 1150 + 0.1 * 132\n",
    "    icu_pseudocounts = 100 + 36 + 0.05 * 1300 + 0.1 * 196\n",
    "    return ergo.beta_from_hits(ventilation_pseudocounts, icu_pseudocounts)"
   ]
  },
  {
   "cell_type": "markdown",
   "metadata": {
    "colab_type": "text",
    "id": "yuyLbplkW611"
   },
   "source": [
    "# El Paso questions"
   ]
  },
  {
   "cell_type": "code",
   "execution_count": null,
   "metadata": {
    "colab": {
     "base_uri": "https://localhost:8080/",
     "height": 735,
     "referenced_widgets": [
      "92ff819e5a4a423b90de2a966ce5a69d",
      "eee6379630664d529a3545f64f06ffa4",
      "4c0cee1fde0245da85882543517adf1e",
      "7392e50b05aa4d359042ab1cd70e724b",
      "d9a8bae42fff4fcb8ab2e0ab52374155",
      "d9f46086904c4ced9673b7c084376d9c",
      "766cae06201941da8fcfd94a806acc49",
      "ed261162088d4a679b21a2fe83a4da93"
     ]
    },
    "colab_type": "code",
    "id": "NLJEZu9LeLlZ",
    "outputId": "72bb6a6e-7213-483e-b02a-2cc936a558bd"
   },
   "outputs": [],
   "source": [
    "@question(4128, community_weight=0.5)\n",
    "def peak_infection_date() -> date:\n",
    "    \"\"\"\n",
    "    When will El Paso County, Texas, experience its first peak number of COVID\n",
    "    infections?\n",
    "    \"\"\"    \n",
    "    end_date = date(2020, 7, 1)\n",
    "    for today in daterange(START_DATE, end_date):\n",
    "        yesterday = today - timedelta(1)\n",
    "        tomorrow = today + timedelta(1)\n",
    "        two_day_mean = mean_infections(yesterday, tomorrow)\n",
    "        future_means = [mean_infections(today + timedelta(i), today + timedelta(i+2)) for i in range(10)]\n",
    "        if two_day_mean > max(future_means):\n",
    "            return today\n",
    "    return end_date\n",
    "plot_question(peak_infection_date)"
   ]
  },
  {
   "cell_type": "code",
   "execution_count": null,
   "metadata": {
    "colab": {
     "base_uri": "https://localhost:8080/",
     "height": 691,
     "referenced_widgets": [
      "8921bcfe901645589edf1046831252d8",
      "f8aa17e3d4924b69a6bc030b2e0affb1",
      "0fd06447fffc407296674cf27d5e2dc0",
      "7c061d8927364f2eb0bb1da34f43ec77",
      "9a1f4cac042e43b4a94e0c76aee919ba",
      "81f9c71f9b774b618479bf3df2ad796a",
      "217dc41ab3734b9baead3a04f280e45e",
      "9277111fe68d4d8589bc4b89fc64a1bf"
     ]
    },
    "colab_type": "code",
    "id": "1VeQHr38jPa7",
    "outputId": "23affefb-6103-4624-f182-cae4e1c73ad7"
   },
   "outputs": [],
   "source": [
    "@question(4137, community_weight=0.5)\n",
    "def peak_infections():\n",
    "    \"\"\"\n",
    "    How many new infections will be reported in El Paso on the day on which\n",
    "    the number of new reported infections peaks?\n",
    "    \"\"\"\n",
    "    peak = peak_infection_date()\n",
    "    return daily_infections(peak)\n",
    "plot_question(peak_infections)"
   ]
  },
  {
   "cell_type": "code",
   "execution_count": null,
   "metadata": {
    "colab": {
     "base_uri": "https://localhost:8080/",
     "height": 708,
     "referenced_widgets": [
      "cc9c13ef6b234358a973f18cf970f55e",
      "7ab03cf4f4e04bc7bd4c674627657d5d",
      "bb5133fc47234dc5bb9e52a384785539",
      "e9697f6077e54a22b0af08451c634791",
      "6c217863f71f4f989e8263235494933c",
      "f83ca0324965419fa6c907aee8a5e283",
      "4de81ae72baa4e42bd004af14149f5af",
      "d20a4faa150a4c75a0c0358da8642bf0"
     ]
    },
    "colab_type": "code",
    "id": "0vIpv31pjVcE",
    "outputId": "e022f0e2-a7e1-47ec-b0c0-9b1d5912fe0e"
   },
   "outputs": [],
   "source": [
    "@question(4152, community_weight=0.5)\n",
    "def mean_infections_peak345():\n",
    "    \"\"\"\n",
    "    What will the average number of reported daily infections be in El Paso,\n",
    "    over the 3rd, 4th and 5th days after the first \"peak\"?\n",
    "    \"\"\"\n",
    "    peak = peak_infection_date()\n",
    "    return mean_infections(peak + timedelta(3), peak + timedelta(6))\n",
    "plot_question(mean_infections_peak345)"
   ]
  },
  {
   "cell_type": "code",
   "execution_count": null,
   "metadata": {
    "colab": {
     "base_uri": "https://localhost:8080/",
     "height": 708,
     "referenced_widgets": [
      "89fb02ab6c734406b6c50f111f8c85a2",
      "fac1e4a45ba0454d8f764501f02ef00f",
      "bb2ae182c0d7464d9f614f3525d9c61f",
      "777464190cf74206b774e1117d93559b",
      "36dab94b6fe545d69b71819a17d0ef62",
      "97246ba926504c4ca886784c63df4e85",
      "2e86a71a4ea2451f8e1dec19f366449b",
      "784bc31fb05f4a00b755936ba074086d"
     ]
    },
    "colab_type": "code",
    "id": "L-1c5lKQW9S8",
    "outputId": "65c8d9fe-76d3-49db-8623-05386e011aaa"
   },
   "outputs": [],
   "source": [
    "\n",
    "@question(4170, community_weight=0.8)\n",
    "def mean_infections_peak678():\n",
    "    \"\"\"\n",
    "    What will the average number of reported daily infections be in El Paso,\n",
    "    over the 6th, 7th and 8th days after the first \"peak\"?  \n",
    "    \"\"\"\n",
    "    peak = peak_infection_date()\n",
    "    return mean_infections(peak + timedelta(6), peak + timedelta(9))\n",
    "plot_question(mean_infections_peak678)"
   ]
  },
  {
   "cell_type": "code",
   "execution_count": null,
   "metadata": {
    "colab": {
     "base_uri": "https://localhost:8080/",
     "height": 669,
     "referenced_widgets": [
      "852768b3cc414fea9f7951bdc9fcfc0f",
      "fb0b05a15fbd49cf89d2fb7d4aae0919",
      "8fc234fd8a194f60a993ce1aa5832965",
      "47377fcdc23a4306b644d6266ecccc1f",
      "c8e96e9262f441a1bba057ae65dc9c7d",
      "44117a132b6f4e23aa6ad7388d47a958",
      "8c4e29e746c94f93a10f7a2d6b1062fa",
      "22b1e610ee734669ba08000de923ac83"
     ]
    },
    "colab_type": "code",
    "id": "2YZbvHDjjDca",
    "outputId": "0c709d6c-6a09-4df1-b190-6a5e0656dcbe"
   },
   "outputs": [],
   "source": [
    "@question(4155, community_weight=0.7)\n",
    "def frac_patients_icu():\n",
    "    \"\"\"\n",
    "    What portion of in-hospital cases in El Paso County will require admission\n",
    "    to the ICU?\n",
    "\n",
    "    Following @katifish's approach:\n",
    "    https://pandemic.metaculus.com/questions/4155/#comment-28054\n",
    "\n",
    "    TODO: Add others from katifish comment\n",
    "    \"\"\"\n",
    "    alpha = 0.1 # Rescaling counts becase we're more uncertain than implied by counts\n",
    "    return ergo.random_choice([\n",
    "      ergo.beta_from_hits(alpha * 121, alpha * 508),\n",
    "      ergo.beta_from_hits(alpha * 181, alpha * 507),\n",
    "    ])\n",
    "plot_question(frac_patients_icu)"
   ]
  },
  {
   "cell_type": "code",
   "execution_count": null,
   "metadata": {
    "colab": {
     "base_uri": "https://localhost:8080/",
     "height": 691,
     "referenced_widgets": [
      "d089b6024fe147ac808f11cc6c22c55d",
      "331d6c6c2e544fccbc30bd3df3e3ed38",
      "93aba76bdd15404eb4901b38bdb1fae9",
      "6cd97dd350ba4b3496766d713e54731b",
      "f6bfaf12fbfc42c9b6f543611b1fc6ab",
      "f55129c5f0704c19a0ed32beeb6fbc22",
      "1cd1e67c29e949ba8305c5a1195f7e96",
      "b86f1a7472bc4f11b6f1a19cfd4329b6"
     ]
    },
    "colab_type": "code",
    "id": "t93CW729i8fi",
    "outputId": "eb42d39f-55a8-42d1-95be-4ac9b6366f53"
   },
   "outputs": [],
   "source": [
    "@question(4154, community_weight=0.3)\n",
    "def frac_patients_invasive():\n",
    "    \"\"\"\n",
    "    What portion of in-hospital patients with Covid-19 in El Paso County will\n",
    "    require invasive ventilation?\n",
    "\n",
    "    Following @PabloStafforini's indirect estimation approach:\n",
    "    https://pandemic.metaculus.com/questions/4154/#comment-28155\n",
    "\n",
    "    TODO:\n",
    "    - Combine with direct estimate\n",
    "      direct_estimate = ergo.beta_from_hits(0.1 * 130, 0.1 * 393)\n",
    "    \"\"\"\n",
    "    return frac_patients_icu() * frac_icu_ventilation()\n",
    "plot_question(frac_patients_invasive)"
   ]
  },
  {
   "cell_type": "code",
   "execution_count": null,
   "metadata": {
    "colab": {
     "base_uri": "https://localhost:8080/",
     "height": 708,
     "referenced_widgets": [
      "5d9b5c207c3b4627b2d5b082ab3f71d3",
      "7301682e0edb494f93dcc11e5006e5c6",
      "1a0482eb6b714a48b711b4508365efc9",
      "4a7d8af3cf204e5b962f3eac3d6b15e1",
      "71c3a3e046164f30825a7b398200be24",
      "f361355e4fa84141844d1d82c38b9366",
      "e71a4908dc0241509ded41f118f61758",
      "ab156fa1a9854169ab6a18a56cd749ea"
     ]
    },
    "colab_type": "code",
    "id": "8nfFqas-imKT",
    "outputId": "6b3bf9f5-e1b6-43e7-f980-673b66112252"
   },
   "outputs": [],
   "source": [
    "@question(4153, community_weight=0.3)\n",
    "def max_30d_hospital_confirmed_for_peak():\n",
    "    \"\"\"\n",
    "    What will the maximum number of in-hospital lab-confirmed COVID-19 \n",
    "    patients in El Paso County, in the 30-day period during which the \"peak\"\n",
    "    occurs?\n",
    "    \"\"\"\n",
    "    peak = peak_infection_date()\n",
    "    days = daterange(peak - timedelta(15), peak + timedelta(15))\n",
    "    return max(hospital_confirmed_for_date(day) for day in days)\n",
    "\n",
    "plot_question(max_30d_hospital_confirmed_for_peak, bw=0.01)"
   ]
  },
  {
   "cell_type": "code",
   "execution_count": null,
   "metadata": {
    "colab": {
     "base_uri": "https://localhost:8080/",
     "height": 751,
     "referenced_widgets": [
      "cdcd594fee894761abd6a3de6aab0aed",
      "d92259d2b59640cca0036c056f78100a",
      "2f9682e6aeea4aaea207cccc06e7fdc2",
      "d1d5317aadcd4b89a77ddc7da9b9d3f7",
      "fee87335ba2746b8a1280894f18aaaf9",
      "dbeedd8271514b509026d2ec92a40182",
      "5bbdb723d9464279a54b79e415a1436b",
      "9c382530e99e4b408d4c593d097375ca"
     ]
    },
    "colab_type": "code",
    "id": "4chT7tG8i4At",
    "outputId": "b004d8e7-2c84-4794-b4dd-bd6d18a4746a"
   },
   "outputs": [],
   "source": [
    "@question(4204)\n",
    "def peak_icu_admissions():\n",
    "    \"\"\"\n",
    "    How many patients with Covid-19 in El Paso County will be admitted to the\n",
    "    ICU on the day when the number of hospital admissions of cases peak?\n",
    "\n",
    "    Following @Tamay's approach:\n",
    "    https://pandemic.metaculus.com/questions/4204/\n",
    "\n",
    "    Alternative:    \n",
    "    - peak = peak_hospitalizations_date()\n",
    "    - return daily_icu_admissions(peak)\n",
    "\n",
    "    FIXME: Admissions vs in-hospital patients unclear\n",
    "\n",
    "    Not mixing in community since this is just the product of two other questions.    \n",
    "    \"\"\"\n",
    "    max_patients = max_30d_hospital_confirmed_for_peak()\n",
    "    return max_patients * frac_patients_icu()\n",
    "plot_question(peak_icu_admissions)"
   ]
  },
  {
   "cell_type": "code",
   "execution_count": null,
   "metadata": {
    "colab": {
     "base_uri": "https://localhost:8080/",
     "height": 773,
     "referenced_widgets": [
      "6cc6d5ad598b4feeaf2684e51045d13c",
      "b3651c45c0874ed8a2111105fa749435",
      "8d58b4edefd747a9a87698c8bc497500",
      "dbfc24dcaf954f0fa02c6b11fc9a2817",
      "04b2cef5de0748248e92b668146f0604",
      "f7ab2e076e6643e1b6ef12648bad025a",
      "3e1b1e4e067f4f22a0eefde0c0a6102b",
      "bf9f1e5569f8422f91ddd58b49cca2bc"
     ]
    },
    "colab_type": "code",
    "id": "M008tkxOjJfC",
    "outputId": "87084b02-d2a9-4af8-c2a3-d9b1b0a5b894"
   },
   "outputs": [],
   "source": [
    "@question(4201)\n",
    "def peak_invasive_ventilation():\n",
    "    \"\"\"\n",
    "    How many patients with Covid-19 in El Paso County will require invasive \n",
    "    ventilation on the day when the number of hospital admissions of cases \n",
    "    peak?\n",
    "\n",
    "    Following @Tamay's approach:\n",
    "    https://pandemic.metaculus.com/questions/4201/#comment-28004\n",
    "\n",
    "    Not mixing in community since this is just the product of two other questions.\n",
    "    \"\"\"\n",
    "    return frac_icu_ventilation() * peak_icu_admissions()\n",
    "\n",
    "plot_question(peak_invasive_ventilation)"
   ]
  },
  {
   "cell_type": "markdown",
   "metadata": {
    "colab_type": "text",
    "id": "BMVjqvYFYti_"
   },
   "source": [
    "# Generate predictions for all questions"
   ]
  },
  {
   "cell_type": "code",
   "execution_count": null,
   "metadata": {
    "colab": {
     "base_uri": "https://localhost:8080/",
     "height": 337,
     "referenced_widgets": [
      "479404e09ced4e6fb52355d7c2a25d15",
      "6a4f50cc0e7f49048f23ec491ab1c6cd",
      "3bc1d1f20f76478fb2d2b7e1e70fc72d",
      "831ee8ba9cb049fb98e995749e863456",
      "2cfd1c914fa54846a296ad6485b67cc8",
      "f6156b65059f481aa71d9bd3ebb0cdeb",
      "ea60174b85934cb0b4fc187cf64b1191",
      "eaa43246c6f44aaea73c47c7528827a1"
     ]
    },
    "colab_type": "code",
    "id": "C-ioJfwyY9qV",
    "outputId": "95413e02-f382-4d34-87f1-690edfcfd411"
   },
   "outputs": [],
   "source": [
    "def model():\n",
    "    clear_mem()\n",
    "    for sampler in samplers.values():\n",
    "        sampler()\n",
    "\n",
    "samples = ergo.run(model, num_samples=2000)\n",
    "\n",
    "summarize_question_samples(samples)"
   ]
  },
  {
   "cell_type": "markdown",
   "metadata": {
    "colab_type": "text",
    "id": "mQ6CLIGhZdWQ"
   },
   "source": [
    "# Compare predictions to community"
   ]
  },
  {
   "cell_type": "markdown",
   "metadata": {
    "colab_type": "text",
    "id": "50UP8lQoZpvU"
   },
   "source": [
    "This takes a while since we're fitting a mixture of logistic distributions to our samples before visualizing (and submitting) them.\n",
    "These may look a little different from the plots below the questions above, because we've taken more samples from the distribution and we're fitting logistic distributions so we can submit them to metaculus"
   ]
  },
  {
   "cell_type": "code",
   "execution_count": null,
   "metadata": {
    "colab": {
     "base_uri": "https://localhost:8080/",
     "height": 1000,
     "referenced_widgets": [
      "61e29457352847449658e9018e76d045",
      "fcf4d04ec10145698432b8b0dd1ec5c8",
      "e816b3e39be441d1aa431f5383e8d33c",
      "98bab46e425844f6871fa78a5bf4efdb",
      "7a1e33f4cb004e568370171f46ad4431",
      "0b9ddaed0520469c81adbace5f30e90a",
      "77e41ba91509401ba7d3bf784a1ad516",
      "c5b7c7acc7114a5d91771f1da854ab15",
      "2661ab7d8ab145979a37c1f90d06b524",
      "a73281c104b245958144313033003d66",
      "655dae0cc00d46c8bded272c42d0cedf",
      "a6caca55e8a44d1d9ec8c7c3459969cf",
      "2d0833d75cef459292402ca399620a2b",
      "7ecce35f36244101be7033248aca777e",
      "1dd250e0d9894beaa9236554ea410ff6",
      "9f010d63657345d0b0c6b1d86756646c",
      "5e22e72552e2440ba7846ac80cb25bdd",
      "11bf7312558a4f63842175c93c22028d",
      "22ccda88cbe44ada9a5c6ebdf9378230",
      "a57635aa84fb44ca86ce54373b90a097",
      "b2d58be7ff2a4b549470dd4518438208",
      "47c1c3ae34054dddaded3934cb9fa15c",
      "bda1a21abdff4a4396796977d03f1d1b",
      "2c704aa109134680b6a3098b639fc904",
      "60b58f6e7ff8431794598531b0b74793",
      "4de34d1f98e74dfd90e27eeb88a41abc",
      "71b4e30b0e064d6d99ff4109cb3ca7e3",
      "bfc4cc67f2e545d2ae6d54addc3e9f2d",
      "bbcd8aeab60c440884f7b2dcf4ac0dfd",
      "3a7aea1a80694604887ac7a095175682",
      "1317c7a48ff240409ceec5aebfdbbc63",
      "b25fb7206b1049f493b8bb00bc26e142",
      "61e852b944694d4d9765c38d5b98b030",
      "1e66d6ea2e0349f1a8bf9c1055bf2da1",
      "5f961ba01e784f8ca491c160c3541b21",
      "087063b4d1b64b0fb60507be01321db1",
      "433d9a6492f74e1497ac3a4d35d864ce",
      "f558deb643ad4d2cbe90515bd34d70f0",
      "6abe5bd37978478ca417e3e47ef06c72",
      "d5a6169042794213bb59f55bd3b60833",
      "5bbe9c6f62fd4d3d9c09bae7a831ef53",
      "4b6f5efd2bc24e6287c035399ce24a32",
      "334983cd10744105b75a1b3fd28109da",
      "fd3f3a216e40471194767a78de9a9f55",
      "c333b2a3c38241f895d1d7ffc2e50fa7",
      "b48febf07ef643529833d61fc6c6d317",
      "09e3852ec27448d7aa1af6b0049f9923",
      "131e146a2f59448299c391bcdf0ee371",
      "be432febcecc4526a2d9e851be3e0621",
      "58d21859838b4dee94c8d3f926059b51",
      "845e810e949b45b7b0c02eea23e32510",
      "7727b4bb48b741de8e3ed745c69d1710",
      "e6504564b53f44d6a8db3857bdc02f2c",
      "72a07a05cc494f548d877786281587ca",
      "a008702ecd8046658c74b6c3606fe43d",
      "f038c2f7882d49348cdb05f98cb2dec2",
      "bc104ff8c1d7468887da28cce6c9330c",
      "7009748e3e2b4bfeb1909799e90a55a6",
      "685f45f311d34c9686ee781bb6e14440",
      "2918146b7fe24d4fb00e88fbebe5f02e",
      "9ef69acfd05e4a519d49bb0d841f311b",
      "9488319161f148e9afc355cb55d36c47",
      "1700f9115704407c996e3352eb4e4dee",
      "3c6275d5bdbd481b9f1af8cd96e71497",
      "d742adf2c889422eac81b0df02393be0",
      "bb8760dbdca244c69c2f77010c66510b",
      "eb7dd276daa24dc2aaf987de97c4fb97",
      "4d15b0a25f21465a86537956a9720213",
      "d3ebc725ec8843eda1451893cf9ed818",
      "f206a07dca37439fbafe30049f1b437f",
      "70f369677c134abcac1e2d97980c5865",
      "c9c27f4143eb4480b57dc53cdf62159b",
      "d86da4384bce4d4bab43191421493e72",
      "b151c169c7c040368fc1e9f9b531e137",
      "bae97632f1804b3d8d6d016155944959",
      "5399ab26acc840e99afd424db4094de6",
      "63217ecde89e4850b6936016ac202ec1",
      "a4bab1fbdf994c229d873a41553bfdde",
      "64aaa5f7af8945a3b96aa804c9621bda",
      "9c2be69cc6924c538b2d48e9de19838e",
      "eedf87b652c44190afd84dbe0a1bb274",
      "d51ed29ba16b4ba4b900217846137f7c",
      "06f705b2680045aeb93661dee48208fc",
      "0fa26aaed39149b5b5b55581b01e8e39",
      "1750a55d687148bdb7ba0b116549241b",
      "0cc6b79c8b5748b79b7266d5576bb59f",
      "6efeea2c5c2144f78c4d1a3fed4f0e5d",
      "8e9ea1933d85472a9c3970db8590f15f",
      "ec21a0da7f4b4c23a01a3e96d47dd199",
      "0e0a38bb8962485ca257b94a22484c6f",
      "762c7945971f4c0ebcfcef7b55bcefde",
      "daf98d0b24f64400909bd452d0de7efb",
      "f622e31339a7464d8a0d19cf54657478",
      "aac7048f9ecb4b19ab86f340bb5c3ed1",
      "c909d826b956463090d0ee2cc23d7a4b",
      "af70e3c6adc040cab2d17a39ee69c5e2",
      "d8f3c22c4457412fa01d11c4e97adc49",
      "e700964798254a6d875d9a51a88725ef",
      "9fdb9ed4df5c48aa9f25f5afe0749b60",
      "85c09560f39543f98fb169f676a71dc1",
      "d6a6a2759a0b483e913a188301356dbe",
      "703110d4d5ae4a16aef7d4a01fa6ac87",
      "441ea581a2bc44ee9463d32985428760",
      "f8f3487119ec476fbaaba6615ac4431e",
      "dd9a2504a8914434932c13940b6bb68a",
      "6446bbf8b2de47a68caebd969a073c42",
      "86736cbb55f444658cc25868c09efb94",
      "677d20384bd748f592d406ccc52ef722",
      "2718440a828545df9a5c33e4645d8976",
      "a0375e1a65ab442c906e91ae2d36c661",
      "1bebd24566c3468b9c23bf64ca3faeb1",
      "f26c35aad9c94e7c98e27274bf0b666a",
      "4eae7e6b0e7141999c176b690c3de851",
      "b96c3eb467cf43f793953e51d25cfb2f",
      "665402c639804164b0d4e3a3154d6252",
      "56de38e868fb4d578eef6845ccdeef25",
      "3dfd6d0fe42442b49c10f3ba8fdbb400",
      "42a464aefc5645f5bed804a6aeb85994",
      "7e29b9081eff46cbbe2a60a0f7a8ece6",
      "951abcee5aa0466c98a75f061875544f",
      "77995388a0704c28a8c2105faee8c6a6",
      "c558a76e35554f988faae5a2c48953fe",
      "66c2cef9cce94cfbb069d00ae250943f",
      "45f56dd772d54883a46453889d42f7ac",
      "0c010b9aa0f14636ba1569d404d470b6",
      "13c6f355148d45caa19c85311287742e",
      "f0c575ba1a1c4a8b97f38651ea3eddde",
      "8339637b56944a00a49e6b650cb207bd",
      "f2fb14ad20054cf1846f4d559435a058",
      "34ff0fbb3bf74aabbce5ee07bac1797e",
      "bc7ae48485b948c496b8d90ad3bea33c",
      "8f471171cbb24a5b8e9a7889b0ec3b90",
      "e2828e97efb643d0b461f2bf3dcf0f8d",
      "9440bcbb4fa040b8a2e5c944ea6c6f2c",
      "2840d263ee0b49ea980a3f9fc139d1ad",
      "ae6e03b690fc4fdc8a33cad2e0ce909b",
      "6ea3c1009a46452dac7dd51702daf29c",
      "152ad0d7d5e842888f34191201343df6",
      "7ae9ad8d04f042a19ffa4c046b55ab81",
      "6f4010b22426454bb839d5a60a5a8012",
      "78d396122b344f5f8a47d1ffc0dc15af",
      "d4ac5209b48148eaa0e13e063f046723",
      "5f8050a52902419db0ef4e76f9b1ac7d",
      "ee5705c2f49449a5a56b9db81c1d3819"
     ]
    },
    "colab_type": "code",
    "id": "z2DLZ79SZgFF",
    "outputId": "25e733f6-757e-46fe-9ea2-caadec113fb6"
   },
   "outputs": [],
   "source": [
    "submissions = {}\n",
    "for sampler in samplers.values():\n",
    "    q = sampler.question\n",
    "\n",
    "    q_samples = samples[sampler.__name__]\n",
    "\n",
    "    if q.id == 4128: # Date question: Need to convert back to date from days (https://github.com/oughtinc/ergo/issues/144)\n",
    "        q_samples = np.array([START_DATE + timedelta(s) for s in q_samples])\n",
    "\n",
    "    if q.id in [4201, 4204, 4137, 4152, 4170, 4153]:\n",
    "      # Clip extreme values for questions that we had issues fitting\n",
    "      (sample_min, sample_max) = np.quantile(q_samples, [0.02, 0.98])\n",
    "      q_samples = q_samples[(q_samples >= sample_min) & (q_samples <= sample_max)]\n",
    "\n",
    "    submission = q.get_submission_from_samples(q_samples)\n",
    "    submissions[q] = submission\n",
    "\n",
    "    # the graph for this question will be too zoomed out unless we cut off more of the graph\n",
    "    if q.id == 4153:\n",
    "      q.show_prediction(q_samples, plot_samples=False, plot_fitted=True, show_community=True, percent_kept=0.7)\n",
    "    else:\n",
    "      q.show_prediction(q_samples, plot_samples=False, plot_fitted=True, show_community=True, percent_kept=0.9)"
   ]
  },
  {
   "cell_type": "code",
   "execution_count": null,
   "metadata": {
    "colab": {},
    "colab_type": "code",
    "id": "FEEqlyZ_SwPI"
   },
   "outputs": [],
   "source": [
    "# Should we submit this to Metaculus? If so, uncomment the following lines:\n",
    "# for q, submission in submissions.items():  \n",
    "#     print(q.submit(submission))"
   ]
  }
 ],
 "metadata": {
  "kernelspec": {
   "display_name": "Python 3",
   "language": "python",
   "name": "python3"
  }
 },
 "nbformat": 4,
 "nbformat_minor": 4
}
