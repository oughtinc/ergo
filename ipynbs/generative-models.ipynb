{
 "cells": [
  {
   "cell_type": "markdown",
   "metadata": {
    "colab_type": "text",
    "id": "view-in-github"
   },
   "source": [
    "<a href=\"https://colab.research.google.com/github/oughtinc/ergo/blob/master/notebooks/basic.ipynb\" target=\"_parent\"><img src=\"https://colab.research.google.com/assets/colab-badge.svg\" alt=\"Open In Colab\"/></a>"
   ]
  },
  {
   "cell_type": "markdown",
   "metadata": {
    "colab_type": "text",
    "id": "Sa4Txdm9Ym0I"
   },
   "source": [
    "# Setup"
   ]
  },
  {
   "cell_type": "code",
   "execution_count": null,
   "metadata": {
    "colab": {
     "base_uri": "https://localhost:8080/",
     "height": 340
    },
    "colab_type": "code",
    "id": "ZAskliLXYeaI",
    "outputId": "779a4cc7-7976-4aff-c3d9-f7648501b72b"
   },
   "outputs": [],
   "source": [
    "!pip install --quiet poetry  # Fixes https://github.com/python-poetry/poetry/issues/532\n",
    "!pip install --quiet git+https://github.com/oughtinc/ergo.git"
   ]
  },
  {
   "cell_type": "code",
   "execution_count": null,
   "metadata": {
    "colab": {},
    "colab_type": "code",
    "id": "KfIENVozY0J3"
   },
   "outputs": [],
   "source": [
    "%load_ext google.colab.data_table"
   ]
  },
  {
   "cell_type": "code",
   "execution_count": null,
   "metadata": {
    "colab": {
     "base_uri": "https://localhost:8080/",
     "height": 71
    },
    "colab_type": "code",
    "id": "ZEKUvn7EY3Z5",
    "outputId": "7e520dfd-8769-4773-f6d5-418c1b8fadde"
   },
   "outputs": [],
   "source": [
    "import ergo"
   ]
  },
  {
   "cell_type": "markdown",
   "metadata": {
    "colab_type": "text",
    "id": "WsC09uwoY5y6"
   },
   "source": [
    "# Model"
   ]
  },
  {
   "cell_type": "code",
   "execution_count": null,
   "metadata": {
    "colab": {
     "base_uri": "https://localhost:8080/",
     "height": 34
    },
    "colab_type": "code",
    "id": "2NJX5auNY6pn",
    "outputId": "958c300b-5b17-496f-dee1-c29f3d2b6b57"
   },
   "outputs": [],
   "source": [
    "def model():\n",
    "  x = ergo.lognormal_from_interval(1, 10, name=\"x\")\n",
    "  y = ergo.beta_from_hits(2, 10, name=\"y\")\n",
    "  z = x * y  \n",
    "  ergo.tag(z, \"z\")\n",
    "\n",
    "samples = ergo.run(model, num_samples=10000)"
   ]
  },
  {
   "cell_type": "markdown",
   "metadata": {
    "colab_type": "text",
    "id": "zQYFcRd6ZCui"
   },
   "source": [
    "# Analysis"
   ]
  },
  {
   "cell_type": "markdown",
   "metadata": {
    "colab_type": "text",
    "id": "UfGruRDTOgYC"
   },
   "source": [
    "Histogram:"
   ]
  },
  {
   "cell_type": "code",
   "execution_count": null,
   "metadata": {
    "colab": {
     "base_uri": "https://localhost:8080/",
     "height": 282
    },
    "colab_type": "code",
    "id": "FQf1IjKYOiqh",
    "outputId": "b964c140-672d-4b7e-be01-74f9872d2740"
   },
   "outputs": [],
   "source": [
    "samples[\"x\"].hist()"
   ]
  },
  {
   "cell_type": "code",
   "execution_count": null,
   "metadata": {
    "colab": {
     "base_uri": "https://localhost:8080/",
     "height": 282
    },
    "colab_type": "code",
    "id": "t8FRJtMoaxvi",
    "outputId": "e110eeb2-9584-42f8-c59b-8c2d54c65563"
   },
   "outputs": [],
   "source": [
    "samples[\"z\"].hist()"
   ]
  },
  {
   "cell_type": "markdown",
   "metadata": {
    "colab_type": "text",
    "id": "D9x4kW64OEMN"
   },
   "source": [
    "Summary stats:"
   ]
  },
  {
   "cell_type": "code",
   "execution_count": null,
   "metadata": {
    "colab": {
     "base_uri": "https://localhost:8080/",
     "height": 256
    },
    "colab_type": "code",
    "id": "YI7IsER5yXrM",
    "outputId": "3b2a039e-29ce-487d-fce3-c3374328618f"
   },
   "outputs": [],
   "source": [
    "samples.describe()"
   ]
  }
 ],
 "metadata": {
  "jupytext": {
   "main_language": "python"
  },
  "kernelspec": {
   "display_name": "Python 3",
   "name": "python3"
  }
 },
 "nbformat": 4,
 "nbformat_minor": 4
}
