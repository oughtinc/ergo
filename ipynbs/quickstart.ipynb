{
 "cells": [
  {
   "cell_type": "markdown",
   "metadata": {
    "colab_type": "text",
    "id": "view-in-github"
   },
   "source": [
    "<a href=\"https://colab.research.google.com/github/oughtinc/ergo/blob/master/notebooks/quickstart.ipynb\" target=\"_parent\"><img src=\"https://colab.research.google.com/assets/colab-badge.svg\" alt=\"Open In Colab\"/></a>"
   ]
  },
  {
   "cell_type": "markdown",
   "metadata": {
    "colab_type": "text",
    "id": "maTou6hocLTE"
   },
   "source": [
    "# Setup"
   ]
  },
  {
   "cell_type": "code",
   "execution_count": null,
   "metadata": {
    "colab": {
     "base_uri": "https://localhost:8080/",
     "height": 0
    },
    "colab_type": "code",
    "id": "lyp6fM-Zb4ly",
    "outputId": "64f0c3c6-072e-4f5e-fec3-99ec590ba331"
   },
   "outputs": [],
   "source": [
    "!pip install --progress-bar off --quiet poetry\n",
    "!pip install --progress-bar off --quiet git+https://github.com/oughtinc/ergo.git"
   ]
  },
  {
   "cell_type": "markdown",
   "metadata": {
    "colab_type": "text",
    "id": "CWGrht6fc_GF"
   },
   "source": [
    "# Load questions"
   ]
  },
  {
   "cell_type": "code",
   "execution_count": null,
   "metadata": {
    "colab": {},
    "colab_type": "code",
    "id": "KEMFjKkQcPyD"
   },
   "outputs": [],
   "source": [
    "import ergo\n",
    "import seaborn"
   ]
  },
  {
   "cell_type": "markdown",
   "metadata": {
    "colab_type": "text",
    "id": "r0BkLCoNchJn"
   },
   "source": [
    "Log into Metaculus:"
   ]
  },
  {
   "cell_type": "code",
   "execution_count": null,
   "metadata": {
    "colab": {},
    "colab_type": "code",
    "id": "AHvdB2Zzcj7v"
   },
   "outputs": [],
   "source": [
    "metaculus = ergo.Metaculus(\n",
    "    username=\"YOUR-USERNAME\", \n",
    "    password=\"YOUR-PASSWORD\"\n",
    ")"
   ]
  },
  {
   "cell_type": "markdown",
   "metadata": {
    "colab_type": "text",
    "id": "5fMzhL7jc6dX"
   },
   "source": [
    "Load some questions:"
   ]
  },
  {
   "cell_type": "code",
   "execution_count": null,
   "metadata": {
    "colab": {},
    "colab_type": "code",
    "id": "1HqmElqReZm5"
   },
   "outputs": [],
   "source": [
    "q_infections = metaculus.get_question(3529, name=\"Covid-19 infections in 2020\")\n",
    "q_ratio = metaculus.get_question(3755, name=\"Covid-19 ratio of fatalities to infections\")"
   ]
  },
  {
   "cell_type": "markdown",
   "metadata": {
    "colab_type": "text",
    "id": "IrKjc3zmehYx"
   },
   "source": [
    "Build a model:"
   ]
  },
  {
   "cell_type": "code",
   "execution_count": null,
   "metadata": {
    "colab": {
     "base_uri": "https://localhost:8080/",
     "height": 34
    },
    "colab_type": "code",
    "id": "sZirbidReiR2",
    "outputId": "3fd66857-aa69-4361-f251-3b4a3bdb5b58"
   },
   "outputs": [],
   "source": [
    "def model():\n",
    "    infections = q_infections.sample_community()\n",
    "    ratio = q_ratio.sample_community()\n",
    "    deaths = infections * ratio\n",
    "    ergo.tag(deaths, \"Covid-19 deaths in 2020\")\n",
    "\n",
    "samples = ergo.run(model, num_samples=5000)"
   ]
  },
  {
   "cell_type": "markdown",
   "metadata": {
    "colab_type": "text",
    "id": "9rrA73ZMeqme"
   },
   "source": [
    "Show samples:"
   ]
  },
  {
   "cell_type": "code",
   "execution_count": null,
   "metadata": {
    "colab": {
     "base_uri": "https://localhost:8080/",
     "height": 307
    },
    "colab_type": "code",
    "id": "ZVxZVKkbesEY",
    "outputId": "65eb6943-1cde-4e73-b2fe-fd83cee167e4"
   },
   "outputs": [],
   "source": [
    "seaborn.distplot(samples[\"Covid-19 deaths in 2020\"])"
   ]
  }
 ],
 "metadata": {
  "colab": {
   "authorship_tag": "ABX9TyMnIWXH0zoPqedb0goMNGc0",
   "collapsed_sections": [
    "maTou6hocLTE"
   ],
   "include_colab_link": true,
   "name": "Quickstart",
   "provenance": []
  },
  "jupytext": {
   "main_language": "python",
   "notebook_metadata_filter": "all"
  },
  "kernelspec": {
   "display_name": "Python 3",
   "name": "python3"
  }
 },
 "nbformat": 4,
 "nbformat_minor": 4
}
